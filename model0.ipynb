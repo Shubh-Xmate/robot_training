{
  "cells": [
    {
      "cell_type": "markdown",
      "source": [],
      "metadata": {
        "id": "wU6mDI0qKXgA"
      }
    },
    {
      "cell_type": "markdown",
      "source": [
        "# check"
      ],
      "metadata": {
        "id": "pLvNgAHjB1Bz"
      }
    },
    {
      "cell_type": "code",
      "execution_count": null,
      "metadata": {
        "colab": {
          "base_uri": "https://localhost:8080/"
        },
        "id": "74jG74gQLYwA",
        "outputId": "489d62d3-f8c8-4c7f-b576-61022ae90706"
      },
      "outputs": [
        {
          "output_type": "stream",
          "name": "stdout",
          "text": [
            "Hello\n"
          ]
        }
      ],
      "source": [
        "print(\"Hello\")"
      ]
    },
    {
      "cell_type": "markdown",
      "source": [
        "# importing relevant libraries and taking uploaded data from github"
      ],
      "metadata": {
        "id": "t8o-FS65B5IG"
      }
    },
    {
      "cell_type": "code",
      "execution_count": 1,
      "metadata": {
        "id": "NCjWYErfLaiJ"
      },
      "outputs": [],
      "source": [
        "import numpy as np\n",
        "from tensorflow.keras import losses as lo_ss\n",
        "from tensorflow.keras.models import Sequential\n",
        "from tensorflow.keras.layers import LSTM\n",
        "from tensorflow.keras.layers import Dense, Dropout\n",
        "import pandas as pd\n",
        "from matplotlib import pyplot as plt\n",
        "from sklearn.preprocessing import StandardScaler\n",
        "import seaborn as sns\n"
      ]
    },
    {
      "cell_type": "code",
      "execution_count": 2,
      "metadata": {
        "id": "rq8wV53OPNNx",
        "colab": {
          "base_uri": "https://localhost:8080/",
          "height": 424
        },
        "outputId": "175d4740-7428-4909-f1d1-b75d53524d67"
      },
      "outputs": [
        {
          "output_type": "execute_result",
          "data": {
            "text/plain": [
              "      0         1     2     3     4            5            6            7    \\\n",
              "0       2  0.000027 -18.8   1.0 -51.2  5928.833355   796.358239 -2237.601612   \n",
              "1       0  0.000030 -18.8   1.0 -51.2  -861.308727  2307.828939  1422.328418   \n",
              "2       0  0.000034 -18.7   1.0 -50.6 -1851.188870 -1823.489706 -1483.762355   \n",
              "3       0  0.000038 -18.5   1.0 -50.0  3826.693181  3614.186279 -1810.579042   \n",
              "4       0  0.000042 -18.4   1.0 -49.4 -2345.665781 -1009.244748 -2798.268228   \n",
              "...   ...       ...   ...   ...   ...          ...          ...          ...   \n",
              "4030    2  0.000000  82.9  31.8 -61.4 -1245.734872 -1615.032049 -1784.158416   \n",
              "4031    2  0.000000  82.7  31.8 -61.4  1743.167881  -219.969994   353.010067   \n",
              "4032    0  0.000000  82.5  31.8 -61.3  7523.643927 -1346.518049  -437.245974   \n",
              "4033    2  0.000000  82.5  31.8 -61.4 -1639.431817  3837.660828  -218.350574   \n",
              "4034    2  0.000000  82.5  31.8 -61.4 -1687.918422 -1416.745916  1508.833009   \n",
              "\n",
              "              8            9    ...         145         146         147  \\\n",
              "0    -4291.285903   485.614457  ... -184.665696 -143.541755 -356.073963   \n",
              "1    -2551.334533  -561.570173  ...  270.453742  -52.096877  195.996829   \n",
              "2      956.114350 -2017.286057  ...  193.869011   94.069003 -126.387084   \n",
              "3     -228.922261  -270.595184  ... -174.377444 -143.659035  -24.409795   \n",
              "4       87.699940   326.821614  ...   64.504130 -210.224006  -65.296202   \n",
              "...           ...          ...  ...         ...         ...         ...   \n",
              "4030   361.415756   156.039717  ...   -3.633283  -99.510990   52.122663   \n",
              "4031   413.369952 -1057.733851  ... -371.606440 -161.391936   90.013115   \n",
              "4032 -3184.785512   697.115396  ...  -87.525202  -60.850698  211.654447   \n",
              "4033  2473.661181     0.514134  ...   79.065958  -12.731323  -97.202328   \n",
              "4034 -3202.899478   479.292536  ...   56.731513   52.588404  -62.325078   \n",
              "\n",
              "             148         149         150         151         152         153  \\\n",
              "0    -155.953441 -571.260816  548.824942 -147.125237  -15.699306 -114.852994   \n",
              "1    -103.884779  111.627671   19.870049  209.325186   13.936288  261.752370   \n",
              "2     145.724626  131.659001  -84.659240   90.034459  -63.858855  -79.851765   \n",
              "3       3.847896  -80.058108  -12.424300   -2.449475  -82.492338   33.375895   \n",
              "4      40.269294   24.559670  -71.945851  103.014317 -113.017795  145.268924   \n",
              "...          ...         ...         ...         ...         ...         ...   \n",
              "4030 -141.796568  168.401590 -145.657905   78.278022   38.090024 -214.492314   \n",
              "4031   56.553212   17.573522  136.672030  145.804752 -203.689696 -118.373036   \n",
              "4032 -121.017454  443.020185 -395.819706  -85.330893 -357.307181 -178.380422   \n",
              "4033  -74.081315 -277.071732   50.313883   -6.449069 -194.796294 -248.021765   \n",
              "4034 -236.009245  256.691281   72.667507  405.343475 -174.863390  158.616327   \n",
              "\n",
              "             154  \n",
              "0    -125.048631  \n",
              "1      15.264500  \n",
              "2     -36.496837  \n",
              "3      10.991025  \n",
              "4    -112.158828  \n",
              "...          ...  \n",
              "4030  145.345199  \n",
              "4031   52.921203  \n",
              "4032   75.121322  \n",
              "4033 -117.951381  \n",
              "4034   23.589513  \n",
              "\n",
              "[4035 rows x 155 columns]"
            ],
            "text/html": [
              "\n",
              "  <div id=\"df-17e498d9-3aed-41f5-9424-df45d33caf47\">\n",
              "    <div class=\"colab-df-container\">\n",
              "      <div>\n",
              "<style scoped>\n",
              "    .dataframe tbody tr th:only-of-type {\n",
              "        vertical-align: middle;\n",
              "    }\n",
              "\n",
              "    .dataframe tbody tr th {\n",
              "        vertical-align: top;\n",
              "    }\n",
              "\n",
              "    .dataframe thead th {\n",
              "        text-align: right;\n",
              "    }\n",
              "</style>\n",
              "<table border=\"1\" class=\"dataframe\">\n",
              "  <thead>\n",
              "    <tr style=\"text-align: right;\">\n",
              "      <th></th>\n",
              "      <th>0</th>\n",
              "      <th>1</th>\n",
              "      <th>2</th>\n",
              "      <th>3</th>\n",
              "      <th>4</th>\n",
              "      <th>5</th>\n",
              "      <th>6</th>\n",
              "      <th>7</th>\n",
              "      <th>8</th>\n",
              "      <th>9</th>\n",
              "      <th>...</th>\n",
              "      <th>145</th>\n",
              "      <th>146</th>\n",
              "      <th>147</th>\n",
              "      <th>148</th>\n",
              "      <th>149</th>\n",
              "      <th>150</th>\n",
              "      <th>151</th>\n",
              "      <th>152</th>\n",
              "      <th>153</th>\n",
              "      <th>154</th>\n",
              "    </tr>\n",
              "  </thead>\n",
              "  <tbody>\n",
              "    <tr>\n",
              "      <th>0</th>\n",
              "      <td>2</td>\n",
              "      <td>0.000027</td>\n",
              "      <td>-18.8</td>\n",
              "      <td>1.0</td>\n",
              "      <td>-51.2</td>\n",
              "      <td>5928.833355</td>\n",
              "      <td>796.358239</td>\n",
              "      <td>-2237.601612</td>\n",
              "      <td>-4291.285903</td>\n",
              "      <td>485.614457</td>\n",
              "      <td>...</td>\n",
              "      <td>-184.665696</td>\n",
              "      <td>-143.541755</td>\n",
              "      <td>-356.073963</td>\n",
              "      <td>-155.953441</td>\n",
              "      <td>-571.260816</td>\n",
              "      <td>548.824942</td>\n",
              "      <td>-147.125237</td>\n",
              "      <td>-15.699306</td>\n",
              "      <td>-114.852994</td>\n",
              "      <td>-125.048631</td>\n",
              "    </tr>\n",
              "    <tr>\n",
              "      <th>1</th>\n",
              "      <td>0</td>\n",
              "      <td>0.000030</td>\n",
              "      <td>-18.8</td>\n",
              "      <td>1.0</td>\n",
              "      <td>-51.2</td>\n",
              "      <td>-861.308727</td>\n",
              "      <td>2307.828939</td>\n",
              "      <td>1422.328418</td>\n",
              "      <td>-2551.334533</td>\n",
              "      <td>-561.570173</td>\n",
              "      <td>...</td>\n",
              "      <td>270.453742</td>\n",
              "      <td>-52.096877</td>\n",
              "      <td>195.996829</td>\n",
              "      <td>-103.884779</td>\n",
              "      <td>111.627671</td>\n",
              "      <td>19.870049</td>\n",
              "      <td>209.325186</td>\n",
              "      <td>13.936288</td>\n",
              "      <td>261.752370</td>\n",
              "      <td>15.264500</td>\n",
              "    </tr>\n",
              "    <tr>\n",
              "      <th>2</th>\n",
              "      <td>0</td>\n",
              "      <td>0.000034</td>\n",
              "      <td>-18.7</td>\n",
              "      <td>1.0</td>\n",
              "      <td>-50.6</td>\n",
              "      <td>-1851.188870</td>\n",
              "      <td>-1823.489706</td>\n",
              "      <td>-1483.762355</td>\n",
              "      <td>956.114350</td>\n",
              "      <td>-2017.286057</td>\n",
              "      <td>...</td>\n",
              "      <td>193.869011</td>\n",
              "      <td>94.069003</td>\n",
              "      <td>-126.387084</td>\n",
              "      <td>145.724626</td>\n",
              "      <td>131.659001</td>\n",
              "      <td>-84.659240</td>\n",
              "      <td>90.034459</td>\n",
              "      <td>-63.858855</td>\n",
              "      <td>-79.851765</td>\n",
              "      <td>-36.496837</td>\n",
              "    </tr>\n",
              "    <tr>\n",
              "      <th>3</th>\n",
              "      <td>0</td>\n",
              "      <td>0.000038</td>\n",
              "      <td>-18.5</td>\n",
              "      <td>1.0</td>\n",
              "      <td>-50.0</td>\n",
              "      <td>3826.693181</td>\n",
              "      <td>3614.186279</td>\n",
              "      <td>-1810.579042</td>\n",
              "      <td>-228.922261</td>\n",
              "      <td>-270.595184</td>\n",
              "      <td>...</td>\n",
              "      <td>-174.377444</td>\n",
              "      <td>-143.659035</td>\n",
              "      <td>-24.409795</td>\n",
              "      <td>3.847896</td>\n",
              "      <td>-80.058108</td>\n",
              "      <td>-12.424300</td>\n",
              "      <td>-2.449475</td>\n",
              "      <td>-82.492338</td>\n",
              "      <td>33.375895</td>\n",
              "      <td>10.991025</td>\n",
              "    </tr>\n",
              "    <tr>\n",
              "      <th>4</th>\n",
              "      <td>0</td>\n",
              "      <td>0.000042</td>\n",
              "      <td>-18.4</td>\n",
              "      <td>1.0</td>\n",
              "      <td>-49.4</td>\n",
              "      <td>-2345.665781</td>\n",
              "      <td>-1009.244748</td>\n",
              "      <td>-2798.268228</td>\n",
              "      <td>87.699940</td>\n",
              "      <td>326.821614</td>\n",
              "      <td>...</td>\n",
              "      <td>64.504130</td>\n",
              "      <td>-210.224006</td>\n",
              "      <td>-65.296202</td>\n",
              "      <td>40.269294</td>\n",
              "      <td>24.559670</td>\n",
              "      <td>-71.945851</td>\n",
              "      <td>103.014317</td>\n",
              "      <td>-113.017795</td>\n",
              "      <td>145.268924</td>\n",
              "      <td>-112.158828</td>\n",
              "    </tr>\n",
              "    <tr>\n",
              "      <th>...</th>\n",
              "      <td>...</td>\n",
              "      <td>...</td>\n",
              "      <td>...</td>\n",
              "      <td>...</td>\n",
              "      <td>...</td>\n",
              "      <td>...</td>\n",
              "      <td>...</td>\n",
              "      <td>...</td>\n",
              "      <td>...</td>\n",
              "      <td>...</td>\n",
              "      <td>...</td>\n",
              "      <td>...</td>\n",
              "      <td>...</td>\n",
              "      <td>...</td>\n",
              "      <td>...</td>\n",
              "      <td>...</td>\n",
              "      <td>...</td>\n",
              "      <td>...</td>\n",
              "      <td>...</td>\n",
              "      <td>...</td>\n",
              "      <td>...</td>\n",
              "    </tr>\n",
              "    <tr>\n",
              "      <th>4030</th>\n",
              "      <td>2</td>\n",
              "      <td>0.000000</td>\n",
              "      <td>82.9</td>\n",
              "      <td>31.8</td>\n",
              "      <td>-61.4</td>\n",
              "      <td>-1245.734872</td>\n",
              "      <td>-1615.032049</td>\n",
              "      <td>-1784.158416</td>\n",
              "      <td>361.415756</td>\n",
              "      <td>156.039717</td>\n",
              "      <td>...</td>\n",
              "      <td>-3.633283</td>\n",
              "      <td>-99.510990</td>\n",
              "      <td>52.122663</td>\n",
              "      <td>-141.796568</td>\n",
              "      <td>168.401590</td>\n",
              "      <td>-145.657905</td>\n",
              "      <td>78.278022</td>\n",
              "      <td>38.090024</td>\n",
              "      <td>-214.492314</td>\n",
              "      <td>145.345199</td>\n",
              "    </tr>\n",
              "    <tr>\n",
              "      <th>4031</th>\n",
              "      <td>2</td>\n",
              "      <td>0.000000</td>\n",
              "      <td>82.7</td>\n",
              "      <td>31.8</td>\n",
              "      <td>-61.4</td>\n",
              "      <td>1743.167881</td>\n",
              "      <td>-219.969994</td>\n",
              "      <td>353.010067</td>\n",
              "      <td>413.369952</td>\n",
              "      <td>-1057.733851</td>\n",
              "      <td>...</td>\n",
              "      <td>-371.606440</td>\n",
              "      <td>-161.391936</td>\n",
              "      <td>90.013115</td>\n",
              "      <td>56.553212</td>\n",
              "      <td>17.573522</td>\n",
              "      <td>136.672030</td>\n",
              "      <td>145.804752</td>\n",
              "      <td>-203.689696</td>\n",
              "      <td>-118.373036</td>\n",
              "      <td>52.921203</td>\n",
              "    </tr>\n",
              "    <tr>\n",
              "      <th>4032</th>\n",
              "      <td>0</td>\n",
              "      <td>0.000000</td>\n",
              "      <td>82.5</td>\n",
              "      <td>31.8</td>\n",
              "      <td>-61.3</td>\n",
              "      <td>7523.643927</td>\n",
              "      <td>-1346.518049</td>\n",
              "      <td>-437.245974</td>\n",
              "      <td>-3184.785512</td>\n",
              "      <td>697.115396</td>\n",
              "      <td>...</td>\n",
              "      <td>-87.525202</td>\n",
              "      <td>-60.850698</td>\n",
              "      <td>211.654447</td>\n",
              "      <td>-121.017454</td>\n",
              "      <td>443.020185</td>\n",
              "      <td>-395.819706</td>\n",
              "      <td>-85.330893</td>\n",
              "      <td>-357.307181</td>\n",
              "      <td>-178.380422</td>\n",
              "      <td>75.121322</td>\n",
              "    </tr>\n",
              "    <tr>\n",
              "      <th>4033</th>\n",
              "      <td>2</td>\n",
              "      <td>0.000000</td>\n",
              "      <td>82.5</td>\n",
              "      <td>31.8</td>\n",
              "      <td>-61.4</td>\n",
              "      <td>-1639.431817</td>\n",
              "      <td>3837.660828</td>\n",
              "      <td>-218.350574</td>\n",
              "      <td>2473.661181</td>\n",
              "      <td>0.514134</td>\n",
              "      <td>...</td>\n",
              "      <td>79.065958</td>\n",
              "      <td>-12.731323</td>\n",
              "      <td>-97.202328</td>\n",
              "      <td>-74.081315</td>\n",
              "      <td>-277.071732</td>\n",
              "      <td>50.313883</td>\n",
              "      <td>-6.449069</td>\n",
              "      <td>-194.796294</td>\n",
              "      <td>-248.021765</td>\n",
              "      <td>-117.951381</td>\n",
              "    </tr>\n",
              "    <tr>\n",
              "      <th>4034</th>\n",
              "      <td>2</td>\n",
              "      <td>0.000000</td>\n",
              "      <td>82.5</td>\n",
              "      <td>31.8</td>\n",
              "      <td>-61.4</td>\n",
              "      <td>-1687.918422</td>\n",
              "      <td>-1416.745916</td>\n",
              "      <td>1508.833009</td>\n",
              "      <td>-3202.899478</td>\n",
              "      <td>479.292536</td>\n",
              "      <td>...</td>\n",
              "      <td>56.731513</td>\n",
              "      <td>52.588404</td>\n",
              "      <td>-62.325078</td>\n",
              "      <td>-236.009245</td>\n",
              "      <td>256.691281</td>\n",
              "      <td>72.667507</td>\n",
              "      <td>405.343475</td>\n",
              "      <td>-174.863390</td>\n",
              "      <td>158.616327</td>\n",
              "      <td>23.589513</td>\n",
              "    </tr>\n",
              "  </tbody>\n",
              "</table>\n",
              "<p>4035 rows × 155 columns</p>\n",
              "</div>\n",
              "      <button class=\"colab-df-convert\" onclick=\"convertToInteractive('df-17e498d9-3aed-41f5-9424-df45d33caf47')\"\n",
              "              title=\"Convert this dataframe to an interactive table.\"\n",
              "              style=\"display:none;\">\n",
              "        \n",
              "  <svg xmlns=\"http://www.w3.org/2000/svg\" height=\"24px\"viewBox=\"0 0 24 24\"\n",
              "       width=\"24px\">\n",
              "    <path d=\"M0 0h24v24H0V0z\" fill=\"none\"/>\n",
              "    <path d=\"M18.56 5.44l.94 2.06.94-2.06 2.06-.94-2.06-.94-.94-2.06-.94 2.06-2.06.94zm-11 1L8.5 8.5l.94-2.06 2.06-.94-2.06-.94L8.5 2.5l-.94 2.06-2.06.94zm10 10l.94 2.06.94-2.06 2.06-.94-2.06-.94-.94-2.06-.94 2.06-2.06.94z\"/><path d=\"M17.41 7.96l-1.37-1.37c-.4-.4-.92-.59-1.43-.59-.52 0-1.04.2-1.43.59L10.3 9.45l-7.72 7.72c-.78.78-.78 2.05 0 2.83L4 21.41c.39.39.9.59 1.41.59.51 0 1.02-.2 1.41-.59l7.78-7.78 2.81-2.81c.8-.78.8-2.07 0-2.86zM5.41 20L4 18.59l7.72-7.72 1.47 1.35L5.41 20z\"/>\n",
              "  </svg>\n",
              "      </button>\n",
              "      \n",
              "  <style>\n",
              "    .colab-df-container {\n",
              "      display:flex;\n",
              "      flex-wrap:wrap;\n",
              "      gap: 12px;\n",
              "    }\n",
              "\n",
              "    .colab-df-convert {\n",
              "      background-color: #E8F0FE;\n",
              "      border: none;\n",
              "      border-radius: 50%;\n",
              "      cursor: pointer;\n",
              "      display: none;\n",
              "      fill: #1967D2;\n",
              "      height: 32px;\n",
              "      padding: 0 0 0 0;\n",
              "      width: 32px;\n",
              "    }\n",
              "\n",
              "    .colab-df-convert:hover {\n",
              "      background-color: #E2EBFA;\n",
              "      box-shadow: 0px 1px 2px rgba(60, 64, 67, 0.3), 0px 1px 3px 1px rgba(60, 64, 67, 0.15);\n",
              "      fill: #174EA6;\n",
              "    }\n",
              "\n",
              "    [theme=dark] .colab-df-convert {\n",
              "      background-color: #3B4455;\n",
              "      fill: #D2E3FC;\n",
              "    }\n",
              "\n",
              "    [theme=dark] .colab-df-convert:hover {\n",
              "      background-color: #434B5C;\n",
              "      box-shadow: 0px 1px 3px 1px rgba(0, 0, 0, 0.15);\n",
              "      filter: drop-shadow(0px 1px 2px rgba(0, 0, 0, 0.3));\n",
              "      fill: #FFFFFF;\n",
              "    }\n",
              "  </style>\n",
              "\n",
              "      <script>\n",
              "        const buttonEl =\n",
              "          document.querySelector('#df-17e498d9-3aed-41f5-9424-df45d33caf47 button.colab-df-convert');\n",
              "        buttonEl.style.display =\n",
              "          google.colab.kernel.accessAllowed ? 'block' : 'none';\n",
              "\n",
              "        async function convertToInteractive(key) {\n",
              "          const element = document.querySelector('#df-17e498d9-3aed-41f5-9424-df45d33caf47');\n",
              "          const dataTable =\n",
              "            await google.colab.kernel.invokeFunction('convertToInteractive',\n",
              "                                                     [key], {});\n",
              "          if (!dataTable) return;\n",
              "\n",
              "          const docLinkHtml = 'Like what you see? Visit the ' +\n",
              "            '<a target=\"_blank\" href=https://colab.research.google.com/notebooks/data_table.ipynb>data table notebook</a>'\n",
              "            + ' to learn more about interactive tables.';\n",
              "          element.innerHTML = '';\n",
              "          dataTable['output_type'] = 'display_data';\n",
              "          await google.colab.output.renderOutput(dataTable, element);\n",
              "          const docLink = document.createElement('div');\n",
              "          docLink.innerHTML = docLinkHtml;\n",
              "          element.appendChild(docLink);\n",
              "        }\n",
              "      </script>\n",
              "    </div>\n",
              "  </div>\n",
              "  "
            ]
          },
          "metadata": {},
          "execution_count": 2
        }
      ],
      "source": [
        "import os\n",
        "github_raw_link=\"https://raw.githubusercontent.com/Aryansh085/LAP/main/858417d1-7d54-4115-a01b-fdda5e03ada3_testing_combined_rows4035_disc_1_0p9_MULTIPLY_preproces_155cols.csv\"\n",
        "df=pd.read_csv((github_raw_link),header = None)\n",
        "\n",
        "df\n",
        "\n",
        "# df = pd.read_csv('/content/858417d1-7d54-4115-a01b-fdda5e03ada3_testing_combined_rows4035_disc_1_0p9_MULTIPLY_preproces_155cols.csv')\n",
        "# print(df)"
      ]
    },
    {
      "cell_type": "markdown",
      "metadata": {
        "id": "kkK35zDcQqSN"
      },
      "source": [
        "# Data preprocessing"
      ]
    },
    {
      "cell_type": "code",
      "execution_count": null,
      "metadata": {
        "colab": {
          "base_uri": "https://localhost:8080/"
        },
        "id": "8NPsxu1WQEYz",
        "outputId": "cac19635-6686-4b13-f817-e72ee766e668"
      },
      "outputs": [
        {
          "output_type": "stream",
          "name": "stdout",
          "text": [
            "[0, 1, 2, 3, 4, 5, 6, 7, 8, 9, 10, 11, 12, 13, 14, 15, 16, 17, 18, 19, 20, 21, 22, 23, 24, 25, 26, 27, 28, 29, 30, 31, 32, 33, 34, 35, 36, 37, 38, 39, 40, 41, 42, 43, 44, 45, 46, 47, 48, 49, 50, 51, 52, 53, 54, 55, 56, 57, 58, 59, 60, 61, 62, 63, 64, 65, 66, 67, 68, 69, 70, 71, 72, 73, 74, 75, 76, 77, 78, 79, 80, 81, 82, 83, 84, 85, 86, 87, 88, 89, 90, 91, 92, 93, 94, 95, 96, 97, 98, 99, 100, 101, 102, 103, 104, 105, 106, 107, 108, 109, 110, 111, 112, 113, 114, 115, 116, 117, 118, 119, 120, 121, 122, 123, 124, 125, 126, 127, 128, 129, 130, 131, 132, 133, 134, 135, 136, 137, 138, 139, 140, 141, 142, 143, 144, 145, 146, 147, 148, 149, 150, 151, 152, 153, 154]\n",
            "[0, 5, 6, 7, 8, 9, 10, 11, 12, 13, 14, 15, 16, 17, 18, 19, 20, 21, 22, 23, 24, 25, 26, 27, 28, 29, 30, 31, 32, 33, 34, 35, 36, 37, 38, 39, 40, 41, 42, 43, 44, 45, 46, 47, 48, 49, 50, 51, 52, 53, 54, 55, 56, 57, 58, 59, 60, 61, 62, 63, 64, 65, 66, 67, 68, 69, 70, 71, 72, 73, 74, 75, 76, 77, 78, 79, 80, 81, 82, 83, 84, 85, 86, 87, 88, 89, 90, 91, 92, 93, 94, 95, 96, 97, 98, 99, 100, 101, 102, 103, 104, 105, 106, 107, 108, 109, 110, 111, 112, 113, 114, 115, 116, 117, 118, 119, 120, 121, 122, 123, 124, 125, 126, 127, 128, 129, 130, 131, 132, 133, 134, 135, 136, 137, 138, 139, 140, 141, 142, 143, 144, 145, 146, 147, 148, 149, 150, 151, 152, 153, 154]\n"
          ]
        }
      ],
      "source": [
        "print(list(df))\n",
        "\n",
        "cols = []\n",
        "cols.append(0);\n",
        "\n",
        "for i in range(5, 155):\n",
        "  cols.append(i)\n",
        "\n",
        "# cols = list(df)[5:]\n",
        "# for i in range(0,1):\n",
        "#   cols.append(df[df.columns[i]].to_list())\n",
        "# for i in range(5,155):\n",
        "#   cols.append(df[df.columns[i]].to_list())\n",
        "\n",
        "#2-5 columns are not used in training. \n",
        "print(cols)"
      ]
    },
    {
      "cell_type": "code",
      "execution_count": null,
      "metadata": {
        "id": "9yTAdQwmQC65"
      },
      "outputs": [],
      "source": [
        "df_for_training = df[cols].astype(float)\n",
        "\n",
        "# df_for_plot=df_for_training.tail(5000)\n",
        "# df_for_plot.plot.line()\n",
        "\n",
        "# LSTM uses sigmoid and tanh that are sensitive to magnitude so values need to be normalized\n",
        "# normalize the dataset\n",
        "scaler = StandardScaler()\n",
        "scaler = scaler.fit(df_for_training)\n",
        "df_for_training_scaled = scaler.transform(df_for_training)\n",
        "\n",
        "\n",
        "#As required for LSTM networks, we require to reshape an input data into n_samples x timesteps x n_features. \n",
        "#In this example, the n_features is 1+150. We will make timesteps = 1 (past days data used for training). \n",
        "\n",
        "#Empty lists to be populated using formatted training data\n",
        "trainX = []\n",
        "trainY = []\n"
      ]
    },
    {
      "cell_type": "code",
      "execution_count": null,
      "metadata": {
        "id": "eY2qmpctPNTP",
        "outputId": "b92f3d4a-b1f5-42f4-e138-4bbd254a7e77",
        "colab": {
          "base_uri": "https://localhost:8080/"
        }
      },
      "outputs": [
        {
          "output_type": "stream",
          "name": "stdout",
          "text": [
            "trainX shape == (4030, 5, 150).\n",
            "trainY shape == (4030, 1).\n"
          ]
        }
      ],
      "source": [
        "n_future = 1   # Number of days we want to look into the future based on the past days.\n",
        "n_past = 5  # Number of past days we want to use to predict the future.\n",
        "\n",
        "#Reformat input data into a shape: (n_samples x timesteps x n_features)\n",
        "#In my example, my df_for_training_scaled has a shape (4030, 151)\n",
        "#4030 refers to the number of data points and 151 refers to the columns (multi-variables).\n",
        "for i in range(n_past, len(df_for_training_scaled) - n_future +1):\n",
        "    trainX.append(df_for_training_scaled[i - n_past:i, 1:df_for_training.shape[1]])\n",
        "    trainY.append(df_for_training_scaled[i + n_future - 1:i + n_future, 0])\n",
        "    # trainY.append(df_for_training_scaled[i - n_past:i, 0])\n",
        "\n",
        "trainX, trainY = np.array(trainX), np.array(trainY)\n",
        "\n",
        "print('trainX shape == {}.'.format(trainX.shape))\n",
        "print('trainY shape == {}.'.format(trainY.shape))"
      ]
    },
    {
      "cell_type": "markdown",
      "source": [
        "# Model making starts here "
      ],
      "metadata": {
        "id": "RtTd1rycBkU9"
      }
    },
    {
      "cell_type": "code",
      "execution_count": null,
      "metadata": {
        "id": "t8DajKZ3Rxl8",
        "colab": {
          "base_uri": "https://localhost:8080/",
          "height": 977
        },
        "outputId": "bf28ed3b-c7b1-4f92-e92b-d1a2cf19f3d1"
      },
      "outputs": [
        {
          "output_type": "stream",
          "name": "stdout",
          "text": [
            "Model: \"sequential\"\n",
            "_________________________________________________________________\n",
            " Layer (type)                Output Shape              Param #   \n",
            "=================================================================\n",
            " lstm (LSTM)                 (None, 5, 64)             55040     \n",
            "                                                                 \n",
            " lstm_1 (LSTM)               (None, 5, 32)             12416     \n",
            "                                                                 \n",
            " lstm_2 (LSTM)               (None, 150)               109800    \n",
            "                                                                 \n",
            " dropout (Dropout)           (None, 150)               0         \n",
            "                                                                 \n",
            " dense (Dense)               (None, 1)                 151       \n",
            "                                                                 \n",
            "=================================================================\n",
            "Total params: 177,407\n",
            "Trainable params: 177,407\n",
            "Non-trainable params: 0\n",
            "_________________________________________________________________\n",
            "Epoch 1/10\n",
            "3627/3627 [==============================] - 43s 11ms/step - loss: 0.9428 - accuracy: 0.0000e+00 - val_loss: 1.1753 - val_accuracy: 0.0000e+00\n",
            "Epoch 2/10\n",
            "3627/3627 [==============================] - 32s 9ms/step - loss: 0.6375 - accuracy: 0.0000e+00 - val_loss: 1.3117 - val_accuracy: 0.0000e+00\n",
            "Epoch 3/10\n",
            "3627/3627 [==============================] - 32s 9ms/step - loss: 0.4297 - accuracy: 0.0000e+00 - val_loss: 1.2175 - val_accuracy: 0.0000e+00\n",
            "Epoch 4/10\n",
            "3627/3627 [==============================] - 33s 9ms/step - loss: 0.3067 - accuracy: 0.0000e+00 - val_loss: 1.2700 - val_accuracy: 0.0000e+00\n",
            "Epoch 5/10\n",
            "3627/3627 [==============================] - 34s 9ms/step - loss: 0.2286 - accuracy: 0.0000e+00 - val_loss: 1.4064 - val_accuracy: 0.0000e+00\n",
            "Epoch 6/10\n",
            "3627/3627 [==============================] - 33s 9ms/step - loss: 0.1576 - accuracy: 0.0000e+00 - val_loss: 1.4198 - val_accuracy: 0.0000e+00\n",
            "Epoch 7/10\n",
            "3627/3627 [==============================] - 33s 9ms/step - loss: 0.1241 - accuracy: 0.0000e+00 - val_loss: 1.4704 - val_accuracy: 0.0000e+00\n",
            "Epoch 8/10\n",
            "3627/3627 [==============================] - 32s 9ms/step - loss: 0.1096 - accuracy: 0.0000e+00 - val_loss: 1.4713 - val_accuracy: 0.0000e+00\n",
            "Epoch 9/10\n",
            "3627/3627 [==============================] - 32s 9ms/step - loss: 0.0926 - accuracy: 0.0000e+00 - val_loss: 1.4332 - val_accuracy: 0.0000e+00\n",
            "Epoch 10/10\n",
            "3627/3627 [==============================] - 32s 9ms/step - loss: 0.0869 - accuracy: 0.0000e+00 - val_loss: 1.5640 - val_accuracy: 0.0000e+00\n",
            "<keras.callbacks.History object at 0x7f4596940a50>\n"
          ]
        },
        {
          "output_type": "execute_result",
          "data": {
            "text/plain": [
              "<matplotlib.legend.Legend at 0x7f459683a650>"
            ]
          },
          "metadata": {},
          "execution_count": 7
        },
        {
          "output_type": "display_data",
          "data": {
            "text/plain": [
              "<Figure size 432x288 with 1 Axes>"
            ],
            "image/png": "[encoded data removed]"
          },
          "metadata": {
            "needs_background": "light"
          }
        }
      ],
      "source": [
        "model = Sequential()\n",
        "model.add(LSTM(64, activation='relu', input_shape=(trainX.shape[1], trainX.shape[2]), return_sequences=True))\n",
        "model.add(LSTM(32, activation='relu', return_sequences=True))\n",
        "model.add(LSTM(150, activation='relu', input_shape=(trainX.shape[1], trainX.shape[2]), return_sequences=False))\n",
        "\n",
        "model.add(Dropout(0.2))\n",
        "model.add(Dense(trainY.shape[1]))\n",
        "\n",
        "model.compile(optimizer='adam', loss='mse', metrics = ['accuracy'])\n",
        "# model.compile(optimizer='adam',loss = lo_ss.SparseCategoricalCrossentropy(from_logits=True), metrics=['accuracy'])\n",
        "model.summary()\n",
        "\n",
        "\n",
        "# fit the model\n",
        "history=model.fit(trainX, trainY, epochs=10, batch_size=1,validation_split=0.1, verbose=1)\n",
        "\n",
        "# plt.scatter(trainY,history)\n",
        "print(history)\n",
        "plt.plot(history.history['loss'], label='Training loss')\n",
        "plt.plot(history.history['val_loss'], label='Validation loss')\n",
        "plt.legend()\n"
      ]
    },
    {
      "cell_type": "code",
      "execution_count": null,
      "metadata": {
        "id": "bQkZ9WAGX8Hn",
        "colab": {
          "base_uri": "https://localhost:8080/"
        },
        "outputId": "3444a44e-010b-4732-fadf-fc6ff7540a73"
      },
      "outputs": [
        {
          "output_type": "stream",
          "name": "stdout",
          "text": [
            "126/126 [==============================] - 2s 7ms/step - loss: 0.2021 - accuracy: 0.0000e+00\n"
          ]
        },
        {
          "output_type": "execute_result",
          "data": {
            "text/plain": [
              "[0.20208536088466644, 0.0]"
            ]
          },
          "metadata": {},
          "execution_count": 8
        }
      ],
      "source": [
        "# model.model.evaluate(X_test_flat,Y_test)\n",
        "model.evaluate(trainX, trainY)\n"
      ]
    },
    {
      "cell_type": "markdown",
      "source": [
        "# Same model just changing the activation function and parameters"
      ],
      "metadata": {
        "id": "xaHYIeGiBvRc"
      }
    },
    {
      "cell_type": "code",
      "execution_count": null,
      "metadata": {
        "id": "1wLDpJA2bRI1",
        "colab": {
          "base_uri": "https://localhost:8080/"
        },
        "outputId": "5681bf06-d929-4f9a-a1dc-cb1f2836b579"
      },
      "outputs": [
        {
          "output_type": "stream",
          "name": "stdout",
          "text": [
            "Model: \"sequential_7\"\n",
            "_________________________________________________________________\n",
            " Layer (type)                Output Shape              Param #   \n",
            "=================================================================\n",
            " lstm_21 (LSTM)              (None, 5, 100)            100400    \n",
            "                                                                 \n",
            " lstm_22 (LSTM)              (None, 5, 50)             30200     \n",
            "                                                                 \n",
            " lstm_23 (LSTM)              (None, 150)               120600    \n",
            "                                                                 \n",
            " dense_7 (Dense)             (None, 1)                 151       \n",
            "                                                                 \n",
            "=================================================================\n",
            "Total params: 251,351\n",
            "Trainable params: 251,351\n",
            "Non-trainable params: 0\n",
            "_________________________________________________________________\n",
            "Epoch 1/10\n",
            "3627/3627 [==============================] - 35s 9ms/step - loss: 1.0043 - accuracy: 0.0000e+00 - val_loss: 1.0019 - val_accuracy: 0.0000e+00\n",
            "Epoch 2/10\n",
            "3627/3627 [==============================] - 31s 9ms/step - loss: 1.0131 - accuracy: 0.0000e+00 - val_loss: 1.0028 - val_accuracy: 0.0000e+00\n",
            "Epoch 3/10\n",
            "3627/3627 [==============================] - 31s 9ms/step - loss: 0.9854 - accuracy: 0.0000e+00 - val_loss: 1.0106 - val_accuracy: 0.0000e+00\n",
            "Epoch 4/10\n",
            "3627/3627 [==============================] - 31s 8ms/step - loss: 0.9100 - accuracy: 0.0000e+00 - val_loss: 1.0242 - val_accuracy: 0.0000e+00\n",
            "Epoch 5/10\n",
            "3627/3627 [==============================] - 31s 8ms/step - loss: 0.7242 - accuracy: 0.0000e+00 - val_loss: 1.1286 - val_accuracy: 0.0000e+00\n",
            "Epoch 6/10\n",
            "3627/3627 [==============================] - 29s 8ms/step - loss: 0.4261 - accuracy: 0.0000e+00 - val_loss: 1.2600 - val_accuracy: 0.0000e+00\n",
            "Epoch 7/10\n",
            "3627/3627 [==============================] - 31s 8ms/step - loss: 0.2826 - accuracy: 0.0000e+00 - val_loss: 1.2963 - val_accuracy: 0.0000e+00\n",
            "Epoch 8/10\n",
            "3627/3627 [==============================] - 30s 8ms/step - loss: 0.2155 - accuracy: 0.0000e+00 - val_loss: 1.3081 - val_accuracy: 0.0000e+00\n",
            "Epoch 9/10\n",
            "3627/3627 [==============================] - 31s 8ms/step - loss: 0.1846 - accuracy: 0.0000e+00 - val_loss: 1.2667 - val_accuracy: 0.0000e+00\n",
            "Epoch 10/10\n",
            "3627/3627 [==============================] - 30s 8ms/step - loss: 0.1517 - accuracy: 0.0000e+00 - val_loss: 1.1884 - val_accuracy: 0.0000e+00\n"
          ]
        },
        {
          "output_type": "execute_result",
          "data": {
            "text/plain": [
              "<keras.callbacks.History at 0x7fed7e85c310>"
            ]
          },
          "metadata": {},
          "execution_count": 23
        }
      ],
      "source": [
        "model = Sequential()\n",
        "model.add(LSTM(100, activation='relu', input_shape=(trainX.shape[1], trainX.shape[2]), return_sequences=True))\n",
        "model.add(LSTM(50, activation='relu', return_sequences=True))\n",
        "model.add(LSTM(150, activation='relu', input_shape=(trainX.shape[1], trainX.shape[2]), return_sequences=False))\n",
        "\n",
        "# model.add(Dropout(0.2))\n",
        "model.add(Dense(trainY.shape[1]))\n",
        "\n",
        "model.compile(optimizer='adam', loss='mse', metrics = ['accuracy'])\n",
        "model.summary()\n",
        "\n",
        "\n",
        "# fit the model\n",
        "model.fit(trainX, trainY, epochs=10, batch_size=1, validation_split=0.1, verbose=1)\n",
        "\n"
      ]
    },
    {
      "cell_type": "code",
      "execution_count": null,
      "metadata": {
        "id": "XMkiPLKZbY6R"
      },
      "outputs": [],
      "source": [
        "model.evaluate(trainX, trainY)\n"
      ]
    },
    {
      "cell_type": "code",
      "execution_count": null,
      "metadata": {
        "id": "fTwjhx5Hcld5"
      },
      "outputs": [],
      "source": [
        "model = Sequential()\n",
        "model.add(LSTM(100, activation='relu', input_shape=(trainX.shape[1], trainX.shape[2]), return_sequences=True))\n",
        "model.add(LSTM(64, activation='relu', return_sequences=True))\n",
        "model.add(LSTM(150, activation='relu', input_shape=(trainX.shape[1], trainX.shape[2]), return_sequences=False))\n",
        "\n",
        "# model.add(Dropout(0.2))\n",
        "model.add(Dense(trainY.shape[1]))\n",
        "\n",
        "model.compile(optimizer='adam', loss='mse', metrics = ['accuracy'])\n",
        "model.summary()\n",
        "\n",
        "\n",
        "# fit the model\n",
        "model.fit(trainX, trainY, epochs=15, batch_size=1, validation_split=0.1, verbose=1)\n",
        "\n"
      ]
    },
    {
      "cell_type": "code",
      "execution_count": null,
      "metadata": {
        "id": "ktjEzIMwekVC"
      },
      "outputs": [],
      "source": [
        "model.evaluate(trainX, trainY)\n"
      ]
    },
    {
      "cell_type": "code",
      "execution_count": null,
      "metadata": {
        "id": "_nVU8pxTfJju"
      },
      "outputs": [],
      "source": [
        "model = Sequential()\n",
        "model.add(LSTM(100, activation='relu', input_shape=(trainX.shape[1], trainX.shape[2]), return_sequences=True))\n",
        "model.add(LSTM(64, activation='relu', return_sequences=True))\n",
        "model.add(LSTM(150, activation='relu', input_shape=(trainX.shape[1], trainX.shape[2]), return_sequences=False))\n",
        "\n",
        "# model.add(Dropout(0.2))\n",
        "\n",
        "model.add(Dense(100))\n",
        "\n",
        "model.add(Dense(trainY.shape[1]))\n",
        "\n",
        "model.compile(optimizer='adam', loss='mse', metrics = ['accuracy'])\n",
        "model.summary()\n",
        "\n",
        "\n",
        "# fit the model\n",
        "history=model.fit(trainX, trainY, epochs=5, batch_size=1, validation_split=0.1, verbose=1)\n",
        "\n",
        "\n",
        "\n",
        "# plt.scatter(trainY,history)\n",
        "print(history)\n",
        "plt.plot(history.history['loss'], label='Training loss')\n",
        "plt.plot(history.history['val_loss'], label='Validation loss')\n",
        "plt.legend()\n",
        "\n"
      ]
    },
    {
      "cell_type": "code",
      "execution_count": null,
      "metadata": {
        "id": "adPRt0migRSb"
      },
      "outputs": [],
      "source": [
        "model.evaluate(trainX, trainY)\n"
      ]
    },
    {
      "cell_type": "code",
      "execution_count": null,
      "metadata": {
        "id": "6RD933_SgR2r"
      },
      "outputs": [],
      "source": [
        "model = Sequential()\n",
        "model.add(LSTM(100, activation='relu', input_shape=(trainX.shape[1], trainX.shape[2]), return_sequences=True))\n",
        "model.add(LSTM(64, activation='relu', return_sequences=True))\n",
        "model.add(LSTM(150, activation='relu', input_shape=(trainX.shape[1], trainX.shape[2]), return_sequences=False))\n",
        "\n",
        "model.add(Dropout(0.2))\n",
        "\n",
        "model.add(Dense(100,activation='sigmoid'))\n",
        "\n",
        "model.add(Dense(trainY.shape[1],activation='sigmoid'))\n",
        "\n",
        "model.compile(optimizer='adam', loss='mse', metrics = ['accuracy'])\n",
        "model.summary()\n",
        "\n",
        "\n",
        "# fit the model\n",
        "history=model.fit(trainX, trainY, epochs=5, batch_size=1, validation_split=0.1, verbose=1)\n",
        "\n",
        "\n",
        "\n",
        "# plt.scatter(trainY,history)\n",
        "print(history)\n",
        "plt.plot(history.history['loss'], label='Training loss')\n",
        "plt.plot(history.history['val_loss'], label='Validation loss')\n",
        "plt.legend()\n",
        "\n"
      ]
    },
    {
      "cell_type": "code",
      "execution_count": null,
      "metadata": {
        "id": "fiFR-WJ4gYbh"
      },
      "outputs": [],
      "source": [
        "model.evaluate(trainX, trainY)\n"
      ]
    },
    {
      "cell_type": "code",
      "source": [],
      "metadata": {
        "id": "gIDtKkK_xdqY"
      },
      "execution_count": null,
      "outputs": []
    }
  ],
  "metadata": {
    "colab": {
      "collapsed_sections": [
        "pLvNgAHjB1Bz",
        "t8o-FS65B5IG",
        "kkK35zDcQqSN",
        "RtTd1rycBkU9",
        "xaHYIeGiBvRc"
      ],
      "provenance": []
    },
    "kernelspec": {
      "display_name": "Python 3",
      "name": "python3"
    },
    "language_info": {
      "name": "python"
    }
  },
  "nbformat": 4,
  "nbformat_minor": 0
}