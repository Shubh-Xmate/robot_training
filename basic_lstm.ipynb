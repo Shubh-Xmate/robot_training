{
  "nbformat": 4,
  "nbformat_minor": 0,
  "metadata": {
    "colab": {
      "provenance": [],
      "collapsed_sections": []
    },
    "kernelspec": {
      "name": "python3",
      "display_name": "Python 3"
    },
    "language_info": {
      "name": "python"
    }
  },
  "cells": [
    {
      "cell_type": "code",
      "execution_count": null,
      "metadata": {
        "id": "iYaGhQ5mhOvv"
      },
      "outputs": [],
      "source": [
        "import tensorflow as tf\n",
        "import numpy as np\n",
        "from matplotlib import pyplot as plt\n",
        "from tensorflow import keras\n",
        "\n",
        "%matplotlib inline\n"
      ]
    },
    {
      "cell_type": "code",
      "source": [
        "(X_train,Y_train),(X_test,Y_test)=keras.datasets.mnist.load_data()\n"
      ],
      "metadata": {
        "colab": {
          "base_uri": "https://localhost:8080/"
        },
        "id": "ZuYpX8mYhaxN",
        "outputId": "cd274a92-696e-43ce-a145-9a3e7475085f"
      },
      "execution_count": null,
      "outputs": [
        {
          "output_type": "stream",
          "name": "stdout",
          "text": [
            "Downloading data from https://storage.googleapis.com/tensorflow/tf-keras-datasets/mnist.npz\n",
            "11490434/11490434 [==============================] - 0s 0us/step\n"
          ]
        }
      ]
    },
    {
      "cell_type": "code",
      "source": [
        "X_train=X_train/255\n",
        "X_test=X_test/255\n"
      ],
      "metadata": {
        "id": "wNyIOC2choOo"
      },
      "execution_count": null,
      "outputs": []
    },
    {
      "cell_type": "code",
      "source": [
        "# Reshaping into 1-d format\n",
        "\n",
        "X_train=X_train.reshape(len(X_train),28*28)\n",
        "X_test=X_test.reshape(len(X_test),28*28)\n"
      ],
      "metadata": {
        "id": "S3cEG_Pohuuy"
      },
      "execution_count": null,
      "outputs": []
    },
    {
      "cell_type": "code",
      "source": [
        "model=keras.Sequential([\n",
        "    \n",
        "    keras.layers.Dense(10,input_shape=(784,), activation='sigmoid'),\n",
        "\n",
        "])\n",
        "\n",
        "model.compile(\n",
        "    optimizer='adam',\n",
        "    loss='sparse_categorical_crossentropy',\n",
        "    metrics=['accuracy']\n",
        ")\n",
        "model.fit(X_train,Y_train,epochs=10)"
      ],
      "metadata": {
        "colab": {
          "base_uri": "https://localhost:8080/"
        },
        "id": "zYSDKYt9iInR",
        "outputId": "05a6542a-cb14-4786-fd75-2086f23e092d"
      },
      "execution_count": null,
      "outputs": [
        {
          "output_type": "stream",
          "name": "stdout",
          "text": [
            "Epoch 1/10\n",
            "1875/1875 [==============================] - 5s 2ms/step - loss: 0.4726 - accuracy: 0.8756\n",
            "Epoch 2/10\n",
            "1875/1875 [==============================] - 4s 2ms/step - loss: 0.3044 - accuracy: 0.9140\n",
            "Epoch 3/10\n",
            "1875/1875 [==============================] - 4s 2ms/step - loss: 0.2836 - accuracy: 0.9203\n",
            "Epoch 4/10\n",
            "1875/1875 [==============================] - 4s 2ms/step - loss: 0.2734 - accuracy: 0.9230\n",
            "Epoch 5/10\n",
            "1875/1875 [==============================] - 4s 2ms/step - loss: 0.2660 - accuracy: 0.9259\n",
            "Epoch 6/10\n",
            "1875/1875 [==============================] - 4s 2ms/step - loss: 0.2618 - accuracy: 0.9276\n",
            "Epoch 7/10\n",
            "1875/1875 [==============================] - 4s 2ms/step - loss: 0.2583 - accuracy: 0.9282\n",
            "Epoch 8/10\n",
            "1875/1875 [==============================] - 4s 2ms/step - loss: 0.2552 - accuracy: 0.9290\n",
            "Epoch 9/10\n",
            "1875/1875 [==============================] - 4s 2ms/step - loss: 0.2532 - accuracy: 0.9298\n",
            "Epoch 10/10\n",
            "1875/1875 [==============================] - 4s 2ms/step - loss: 0.2511 - accuracy: 0.9308\n"
          ]
        },
        {
          "output_type": "execute_result",
          "data": {
            "text/plain": [
              "<keras.callbacks.History at 0x7f61e4d9add0>"
            ]
          },
          "metadata": {},
          "execution_count": 7
        }
      ]
    },
    {
      "cell_type": "code",
      "source": [
        "model.evaluate(X_test,Y_test)\n",
        "model.summary()"
      ],
      "metadata": {
        "colab": {
          "base_uri": "https://localhost:8080/"
        },
        "id": "hSH7mIDZi-B1",
        "outputId": "e17e57de-84a5-4d81-8daf-fc7a110a2c46"
      },
      "execution_count": null,
      "outputs": [
        {
          "output_type": "stream",
          "name": "stdout",
          "text": [
            "313/313 [==============================] - 1s 2ms/step - loss: 0.2652 - accuracy: 0.9260\n",
            "Model: \"sequential\"\n",
            "_________________________________________________________________\n",
            " Layer (type)                Output Shape              Param #   \n",
            "=================================================================\n",
            " dense (Dense)               (None, 10)                7850      \n",
            "                                                                 \n",
            "=================================================================\n",
            "Total params: 7,850\n",
            "Trainable params: 7,850\n",
            "Non-trainable params: 0\n",
            "_________________________________________________________________\n"
          ]
        }
      ]
    },
    {
      "cell_type": "code",
      "source": [
        "# Accuracy just 93 %\n",
        "#Changing Optimizer to relu\n",
        "model=keras.Sequential([\n",
        "    keras.layers.Dense(10, activation='sigmoid'),\n",
        "    keras.layers.Dense(100,input_shape=(784,), activation='relu')\n",
        "])\n",
        "\n",
        "model.compile(\n",
        "    optimizer='adam',\n",
        "    loss='sparse_categorical_crossentropy',\n",
        "    metrics=['accuracy']\n",
        ")\n",
        "model.fit(X_train,Y_train,epochs=10)\n",
        "\n"
      ],
      "metadata": {
        "colab": {
          "base_uri": "https://localhost:8080/"
        },
        "id": "pKOaipMIjs_u",
        "outputId": "6d0bcb03-7e56-410e-852b-f3efc027e100"
      },
      "execution_count": null,
      "outputs": [
        {
          "output_type": "stream",
          "name": "stdout",
          "text": [
            "Epoch 1/10\n",
            "1875/1875 [==============================] - 5s 2ms/step - loss: 4.6668 - accuracy: 0.1151\n",
            "Epoch 2/10\n",
            "1875/1875 [==============================] - 9s 5ms/step - loss: 4.3599 - accuracy: 0.1068\n",
            "Epoch 3/10\n",
            "1875/1875 [==============================] - 5s 2ms/step - loss: 4.3376 - accuracy: 0.1130\n",
            "Epoch 4/10\n",
            "1875/1875 [==============================] - 5s 2ms/step - loss: 4.3284 - accuracy: 0.1084\n",
            "Epoch 5/10\n",
            "1875/1875 [==============================] - 5s 2ms/step - loss: 4.2908 - accuracy: 0.1032\n",
            "Epoch 6/10\n",
            "1875/1875 [==============================] - 5s 2ms/step - loss: 4.2846 - accuracy: 0.1006\n",
            "Epoch 7/10\n",
            "1875/1875 [==============================] - 5s 2ms/step - loss: 4.2737 - accuracy: 0.1091\n",
            "Epoch 8/10\n",
            "1875/1875 [==============================] - 4s 2ms/step - loss: 4.3795 - accuracy: 0.0990\n",
            "Epoch 9/10\n",
            "1875/1875 [==============================] - 5s 2ms/step - loss: 4.2272 - accuracy: 0.1101\n",
            "Epoch 10/10\n",
            "1875/1875 [==============================] - 5s 2ms/step - loss: 4.1700 - accuracy: 0.1324\n"
          ]
        },
        {
          "output_type": "execute_result",
          "data": {
            "text/plain": [
              "<keras.callbacks.History at 0x7f61e4cbcd10>"
            ]
          },
          "metadata": {},
          "execution_count": 9
        }
      ]
    },
    {
      "cell_type": "code",
      "source": [],
      "metadata": {
        "id": "fU3HM4lZ3cx9"
      },
      "execution_count": null,
      "outputs": []
    },
    {
      "cell_type": "code",
      "source": [
        "# we can reduce no. of epochs as not required this much\n",
        "\n",
        "# One great learning never use relu in last layer\n",
        "\n",
        "model.evaluate(X_test,Y_test)\n",
        " \n"
      ],
      "metadata": {
        "colab": {
          "base_uri": "https://localhost:8080/"
        },
        "id": "CaY5X3rWkIIH",
        "outputId": "09582a76-2373-42b0-e7ec-4f60cc55e35e"
      },
      "execution_count": null,
      "outputs": [
        {
          "output_type": "stream",
          "name": "stdout",
          "text": [
            "313/313 [==============================] - 1s 2ms/step - loss: 4.1469 - accuracy: 0.1226\n"
          ]
        },
        {
          "output_type": "execute_result",
          "data": {
            "text/plain": [
              "[4.1469268798828125, 0.1225999966263771]"
            ]
          },
          "metadata": {},
          "execution_count": 10
        }
      ]
    },
    {
      "cell_type": "code",
      "source": [
        "# Accuracy just 93 %\n",
        "#Changing Optimizer to relu\n",
        "model=keras.Sequential([\n",
        "    \n",
        "    keras.layers.Dense(100,input_shape=(784,), activation='relu'),\n",
        "    keras.layers.Dense(10, activation='sigmoid')\n",
        "\n",
        "])\n",
        "\n",
        "model.compile(\n",
        "    optimizer='adam',\n",
        "    loss='sparse_categorical_crossentropy',\n",
        "    metrics=['accuracy']\n",
        ")\n",
        "model.fit(X_train,Y_train,epochs=8)\n",
        "\n",
        "model.summary()"
      ],
      "metadata": {
        "colab": {
          "base_uri": "https://localhost:8080/"
        },
        "id": "aAFeiSHzlJSL",
        "outputId": "95047a3b-acd6-4d8c-f7f6-eaaaa667b018"
      },
      "execution_count": null,
      "outputs": [
        {
          "output_type": "stream",
          "name": "stdout",
          "text": [
            "Epoch 1/8\n",
            "1875/1875 [==============================] - 7s 3ms/step - loss: 0.2709 - accuracy: 0.9230\n",
            "Epoch 2/8\n",
            "1875/1875 [==============================] - 6s 3ms/step - loss: 0.1229 - accuracy: 0.9635\n",
            "Epoch 3/8\n",
            "1875/1875 [==============================] - 6s 3ms/step - loss: 0.0864 - accuracy: 0.9746\n",
            "Epoch 4/8\n",
            "1875/1875 [==============================] - 6s 3ms/step - loss: 0.0643 - accuracy: 0.9808\n",
            "Epoch 5/8\n",
            "1875/1875 [==============================] - 6s 3ms/step - loss: 0.0524 - accuracy: 0.9837\n",
            "Epoch 6/8\n",
            "1875/1875 [==============================] - 6s 3ms/step - loss: 0.0414 - accuracy: 0.9872\n",
            "Epoch 7/8\n",
            "1875/1875 [==============================] - 6s 3ms/step - loss: 0.0336 - accuracy: 0.9896\n",
            "Epoch 8/8\n",
            "1875/1875 [==============================] - 6s 3ms/step - loss: 0.0275 - accuracy: 0.9914\n"
          ]
        },
        {
          "output_type": "execute_result",
          "data": {
            "text/plain": [
              "<keras.callbacks.History at 0x7f61e4af2f50>"
            ]
          },
          "metadata": {},
          "execution_count": 11
        }
      ]
    },
    {
      "cell_type": "code",
      "source": [
        "model.evaluate(X_test,Y_test)\n"
      ],
      "metadata": {
        "colab": {
          "base_uri": "https://localhost:8080/"
        },
        "id": "MFE-TIgdkd4C",
        "outputId": "33af91da-0dad-4344-8b5d-0f1c6f287633"
      },
      "execution_count": null,
      "outputs": [
        {
          "output_type": "stream",
          "name": "stdout",
          "text": [
            "313/313 [==============================] - 1s 2ms/step - loss: 0.0812 - accuracy: 0.9765\n"
          ]
        },
        {
          "output_type": "execute_result",
          "data": {
            "text/plain": [
              "[0.08118019253015518, 0.9764999747276306]"
            ]
          },
          "metadata": {},
          "execution_count": 10
        }
      ]
    },
    {
      "cell_type": "code",
      "source": [
        "from keras.models import Sequential\n",
        "from keras.layers import Dense\n",
        "from keras.layers import LSTM\n",
        "from sklearn.model_selection import train_test_split\n",
        "import numpy as np\n"
      ],
      "metadata": {
        "id": "Yp2X3aa-3d_6"
      },
      "execution_count": null,
      "outputs": []
    },
    {
      "cell_type": "code",
      "source": [
        "import matplotlib.pyplot as plt\n",
        "Data=[[[(i+j)/100] for i in range(5)]for j in range(100)]\n",
        "target=[(i+5)/100 for i in range(100)]\n"
      ],
      "metadata": {
        "id": "fClFfGR7327E"
      },
      "execution_count": null,
      "outputs": []
    },
    {
      "cell_type": "code",
      "source": [
        "x_train,x_test,y_train,y_test=train_test_split(Data,target,test_size=0.2,random_state=42)\n"
      ],
      "metadata": {
        "id": "C6AV2rSF-22M"
      },
      "execution_count": null,
      "outputs": []
    },
    {
      "cell_type": "markdown",
      "source": [
        "data = [[i for i in range(100)]]\n",
        "\n",
        "*   List item\n",
        "*   List item\n",
        "\n",
        "\n",
        "data = np.array(data, dtype=float)\n",
        "target = [[i for i in range(1,101)]]\n",
        "target = np.array(target, dtype=float)\n",
        "\n",
        "data = data.reshape((1, 1, 100)) \n",
        "target = target.reshape((1, 1, 100)) \n",
        "x_test=[i for i in range(100,200)]\n",
        "x_test=np.array(x_test).reshape((1,1,100));\n",
        "y_test=[i for i in range(101,201)]\n",
        "y_test=np.array(y_test).reshape(1,1,100)\n"
      ],
      "metadata": {
        "id": "X4cQUaTq4tVU"
      }
    },
    {
      "cell_type": "code",
      "source": [
        "model=Sequential()\n"
      ],
      "metadata": {
        "id": "9CxiBYmO5ZeP"
      },
      "execution_count": null,
      "outputs": []
    },
    {
      "cell_type": "code",
      "source": [
        "# model.add(LSTM(1),batch_input_shape=(None,5,1),return_sequences=False)\n",
        "model.add(LSTM((1),batch_input_shape=(None,5,1) ,return_sequences=True))\n",
        "model.add(LSTM((1) ,return_sequences=True))\n",
        "\n",
        "model.add(LSTM((1),return_sequences=False))\n",
        "model.compile(loss='mean_squared_error',optimizer='adam',metrics=['accuracy'])"
      ],
      "metadata": {
        "id": "qq3qTnti5ba2"
      },
      "execution_count": null,
      "outputs": []
    },
    {
      "cell_type": "code",
      "source": [
        "model.summary()\n"
      ],
      "metadata": {
        "colab": {
          "base_uri": "https://localhost:8080/"
        },
        "id": "9YZqkQDJ_XGk",
        "outputId": "c5172e64-264e-4e55-c000-21d6ef547b84"
      },
      "execution_count": null,
      "outputs": [
        {
          "output_type": "stream",
          "name": "stdout",
          "text": [
            "Model: \"sequential_14\"\n",
            "_________________________________________________________________\n",
            " Layer (type)                Output Shape              Param #   \n",
            "=================================================================\n",
            " lstm_29 (LSTM)              (None, 5, 1)              12        \n",
            "                                                                 \n",
            " lstm_30 (LSTM)              (None, 5, 1)              12        \n",
            "                                                                 \n",
            " lstm_31 (LSTM)              (None, 1)                 12        \n",
            "                                                                 \n",
            "=================================================================\n",
            "Total params: 36\n",
            "Trainable params: 36\n",
            "Non-trainable params: 0\n",
            "_________________________________________________________________\n"
          ]
        }
      ]
    },
    {
      "cell_type": "code",
      "source": [
        "his=model.fit(x_train,y_train,epochs=300,validation_data=(x_test,y_test))"
      ],
      "metadata": {
        "colab": {
          "base_uri": "https://localhost:8080/"
        },
        "id": "8-FX_N-IAdt_",
        "outputId": "f5571bef-7101-457f-e4ea-1b8142c6ee9d"
      },
      "execution_count": null,
      "outputs": [
        {
          "output_type": "stream",
          "name": "stdout",
          "text": [
            "Epoch 1/300\n",
            "3/3 [==============================] - 8s 1s/step - loss: 0.3652 - accuracy: 0.0000e+00 - val_loss: 0.2980 - val_accuracy: 0.0000e+00\n",
            "Epoch 2/300\n",
            "3/3 [==============================] - 0s 28ms/step - loss: 0.3607 - accuracy: 0.0000e+00 - val_loss: 0.2940 - val_accuracy: 0.0000e+00\n",
            "Epoch 3/300\n",
            "3/3 [==============================] - 0s 30ms/step - loss: 0.3563 - accuracy: 0.0000e+00 - val_loss: 0.2899 - val_accuracy: 0.0000e+00\n",
            "Epoch 4/300\n",
            "3/3 [==============================] - 0s 30ms/step - loss: 0.3517 - accuracy: 0.0000e+00 - val_loss: 0.2859 - val_accuracy: 0.0000e+00\n",
            "Epoch 5/300\n",
            "3/3 [==============================] - 0s 30ms/step - loss: 0.3471 - accuracy: 0.0000e+00 - val_loss: 0.2818 - val_accuracy: 0.0000e+00\n",
            "Epoch 6/300\n",
            "3/3 [==============================] - 0s 29ms/step - loss: 0.3424 - accuracy: 0.0000e+00 - val_loss: 0.2777 - val_accuracy: 0.0000e+00\n",
            "Epoch 7/300\n",
            "3/3 [==============================] - 0s 29ms/step - loss: 0.3380 - accuracy: 0.0000e+00 - val_loss: 0.2736 - val_accuracy: 0.0000e+00\n",
            "Epoch 8/300\n",
            "3/3 [==============================] - 0s 37ms/step - loss: 0.3330 - accuracy: 0.0000e+00 - val_loss: 0.2696 - val_accuracy: 0.0000e+00\n",
            "Epoch 9/300\n",
            "3/3 [==============================] - 0s 30ms/step - loss: 0.3284 - accuracy: 0.0000e+00 - val_loss: 0.2654 - val_accuracy: 0.0000e+00\n",
            "Epoch 10/300\n",
            "3/3 [==============================] - 0s 31ms/step - loss: 0.3236 - accuracy: 0.0000e+00 - val_loss: 0.2612 - val_accuracy: 0.0000e+00\n",
            "Epoch 11/300\n",
            "3/3 [==============================] - 0s 31ms/step - loss: 0.3190 - accuracy: 0.0000e+00 - val_loss: 0.2570 - val_accuracy: 0.0000e+00\n",
            "Epoch 12/300\n",
            "3/3 [==============================] - 0s 31ms/step - loss: 0.3142 - accuracy: 0.0000e+00 - val_loss: 0.2528 - val_accuracy: 0.0000e+00\n",
            "Epoch 13/300\n",
            "3/3 [==============================] - 0s 29ms/step - loss: 0.3092 - accuracy: 0.0000e+00 - val_loss: 0.2486 - val_accuracy: 0.0000e+00\n",
            "Epoch 14/300\n",
            "3/3 [==============================] - 0s 31ms/step - loss: 0.3043 - accuracy: 0.0000e+00 - val_loss: 0.2444 - val_accuracy: 0.0000e+00\n",
            "Epoch 15/300\n",
            "3/3 [==============================] - 0s 40ms/step - loss: 0.2996 - accuracy: 0.0000e+00 - val_loss: 0.2401 - val_accuracy: 0.0000e+00\n",
            "Epoch 16/300\n",
            "3/3 [==============================] - 0s 34ms/step - loss: 0.2945 - accuracy: 0.0000e+00 - val_loss: 0.2358 - val_accuracy: 0.0000e+00\n",
            "Epoch 17/300\n",
            "3/3 [==============================] - 0s 33ms/step - loss: 0.2897 - accuracy: 0.0000e+00 - val_loss: 0.2314 - val_accuracy: 0.0000e+00\n",
            "Epoch 18/300\n",
            "3/3 [==============================] - 0s 32ms/step - loss: 0.2847 - accuracy: 0.0000e+00 - val_loss: 0.2272 - val_accuracy: 0.0000e+00\n",
            "Epoch 19/300\n",
            "3/3 [==============================] - 0s 42ms/step - loss: 0.2798 - accuracy: 0.0000e+00 - val_loss: 0.2229 - val_accuracy: 0.0000e+00\n",
            "Epoch 20/300\n",
            "3/3 [==============================] - 0s 31ms/step - loss: 0.2748 - accuracy: 0.0000e+00 - val_loss: 0.2186 - val_accuracy: 0.0000e+00\n",
            "Epoch 21/300\n",
            "3/3 [==============================] - 0s 31ms/step - loss: 0.2699 - accuracy: 0.0000e+00 - val_loss: 0.2144 - val_accuracy: 0.0000e+00\n",
            "Epoch 22/300\n",
            "3/3 [==============================] - 0s 41ms/step - loss: 0.2649 - accuracy: 0.0000e+00 - val_loss: 0.2101 - val_accuracy: 0.0000e+00\n",
            "Epoch 23/300\n",
            "3/3 [==============================] - 0s 31ms/step - loss: 0.2601 - accuracy: 0.0000e+00 - val_loss: 0.2058 - val_accuracy: 0.0000e+00\n",
            "Epoch 24/300\n",
            "3/3 [==============================] - 0s 30ms/step - loss: 0.2551 - accuracy: 0.0000e+00 - val_loss: 0.2016 - val_accuracy: 0.0000e+00\n",
            "Epoch 25/300\n",
            "3/3 [==============================] - 0s 32ms/step - loss: 0.2497 - accuracy: 0.0000e+00 - val_loss: 0.1974 - val_accuracy: 0.0000e+00\n",
            "Epoch 26/300\n",
            "3/3 [==============================] - 0s 37ms/step - loss: 0.2451 - accuracy: 0.0000e+00 - val_loss: 0.1932 - val_accuracy: 0.0000e+00\n",
            "Epoch 27/300\n",
            "3/3 [==============================] - 0s 31ms/step - loss: 0.2402 - accuracy: 0.0000e+00 - val_loss: 0.1890 - val_accuracy: 0.0000e+00\n",
            "Epoch 28/300\n",
            "3/3 [==============================] - 0s 30ms/step - loss: 0.2354 - accuracy: 0.0000e+00 - val_loss: 0.1848 - val_accuracy: 0.0000e+00\n",
            "Epoch 29/300\n",
            "3/3 [==============================] - 0s 31ms/step - loss: 0.2302 - accuracy: 0.0000e+00 - val_loss: 0.1807 - val_accuracy: 0.0000e+00\n",
            "Epoch 30/300\n",
            "3/3 [==============================] - 0s 37ms/step - loss: 0.2254 - accuracy: 0.0000e+00 - val_loss: 0.1767 - val_accuracy: 0.0000e+00\n",
            "Epoch 31/300\n",
            "3/3 [==============================] - 0s 31ms/step - loss: 0.2207 - accuracy: 0.0000e+00 - val_loss: 0.1726 - val_accuracy: 0.0000e+00\n",
            "Epoch 32/300\n",
            "3/3 [==============================] - 0s 30ms/step - loss: 0.2160 - accuracy: 0.0000e+00 - val_loss: 0.1686 - val_accuracy: 0.0000e+00\n",
            "Epoch 33/300\n",
            "3/3 [==============================] - 0s 32ms/step - loss: 0.2111 - accuracy: 0.0000e+00 - val_loss: 0.1647 - val_accuracy: 0.0000e+00\n",
            "Epoch 34/300\n",
            "3/3 [==============================] - 0s 37ms/step - loss: 0.2067 - accuracy: 0.0000e+00 - val_loss: 0.1608 - val_accuracy: 0.0000e+00\n",
            "Epoch 35/300\n",
            "3/3 [==============================] - 0s 32ms/step - loss: 0.2020 - accuracy: 0.0000e+00 - val_loss: 0.1571 - val_accuracy: 0.0000e+00\n",
            "Epoch 36/300\n",
            "3/3 [==============================] - 0s 36ms/step - loss: 0.1977 - accuracy: 0.0000e+00 - val_loss: 0.1534 - val_accuracy: 0.0000e+00\n",
            "Epoch 37/300\n",
            "3/3 [==============================] - 0s 33ms/step - loss: 0.1930 - accuracy: 0.0000e+00 - val_loss: 0.1499 - val_accuracy: 0.0000e+00\n",
            "Epoch 38/300\n",
            "3/3 [==============================] - 0s 30ms/step - loss: 0.1887 - accuracy: 0.0000e+00 - val_loss: 0.1464 - val_accuracy: 0.0000e+00\n",
            "Epoch 39/300\n",
            "3/3 [==============================] - 0s 33ms/step - loss: 0.1846 - accuracy: 0.0000e+00 - val_loss: 0.1429 - val_accuracy: 0.0000e+00\n",
            "Epoch 40/300\n",
            "3/3 [==============================] - 0s 30ms/step - loss: 0.1803 - accuracy: 0.0000e+00 - val_loss: 0.1396 - val_accuracy: 0.0000e+00\n",
            "Epoch 41/300\n",
            "3/3 [==============================] - 0s 34ms/step - loss: 0.1763 - accuracy: 0.0000e+00 - val_loss: 0.1363 - val_accuracy: 0.0000e+00\n",
            "Epoch 42/300\n",
            "3/3 [==============================] - 0s 44ms/step - loss: 0.1723 - accuracy: 0.0000e+00 - val_loss: 0.1331 - val_accuracy: 0.0000e+00\n",
            "Epoch 43/300\n",
            "3/3 [==============================] - 0s 31ms/step - loss: 0.1684 - accuracy: 0.0000e+00 - val_loss: 0.1300 - val_accuracy: 0.0000e+00\n",
            "Epoch 44/300\n",
            "3/3 [==============================] - 0s 32ms/step - loss: 0.1646 - accuracy: 0.0000e+00 - val_loss: 0.1270 - val_accuracy: 0.0000e+00\n",
            "Epoch 45/300\n",
            "3/3 [==============================] - 0s 30ms/step - loss: 0.1611 - accuracy: 0.0000e+00 - val_loss: 0.1241 - val_accuracy: 0.0000e+00\n",
            "Epoch 46/300\n",
            "3/3 [==============================] - 0s 34ms/step - loss: 0.1575 - accuracy: 0.0000e+00 - val_loss: 0.1214 - val_accuracy: 0.0000e+00\n",
            "Epoch 47/300\n",
            "3/3 [==============================] - 0s 30ms/step - loss: 0.1541 - accuracy: 0.0000e+00 - val_loss: 0.1187 - val_accuracy: 0.0000e+00\n",
            "Epoch 48/300\n",
            "3/3 [==============================] - 0s 30ms/step - loss: 0.1506 - accuracy: 0.0000e+00 - val_loss: 0.1162 - val_accuracy: 0.0000e+00\n",
            "Epoch 49/300\n",
            "3/3 [==============================] - 0s 34ms/step - loss: 0.1474 - accuracy: 0.0000e+00 - val_loss: 0.1137 - val_accuracy: 0.0000e+00\n",
            "Epoch 50/300\n",
            "3/3 [==============================] - 0s 33ms/step - loss: 0.1443 - accuracy: 0.0000e+00 - val_loss: 0.1114 - val_accuracy: 0.0000e+00\n",
            "Epoch 51/300\n",
            "3/3 [==============================] - 0s 30ms/step - loss: 0.1412 - accuracy: 0.0000e+00 - val_loss: 0.1090 - val_accuracy: 0.0000e+00\n",
            "Epoch 52/300\n",
            "3/3 [==============================] - 0s 31ms/step - loss: 0.1383 - accuracy: 0.0000e+00 - val_loss: 0.1068 - val_accuracy: 0.0000e+00\n",
            "Epoch 53/300\n",
            "3/3 [==============================] - 0s 30ms/step - loss: 0.1354 - accuracy: 0.0000e+00 - val_loss: 0.1046 - val_accuracy: 0.0000e+00\n",
            "Epoch 54/300\n",
            "3/3 [==============================] - 0s 36ms/step - loss: 0.1325 - accuracy: 0.0000e+00 - val_loss: 0.1026 - val_accuracy: 0.0000e+00\n",
            "Epoch 55/300\n",
            "3/3 [==============================] - 0s 33ms/step - loss: 0.1299 - accuracy: 0.0000e+00 - val_loss: 0.1006 - val_accuracy: 0.0000e+00\n",
            "Epoch 56/300\n",
            "3/3 [==============================] - 0s 32ms/step - loss: 0.1274 - accuracy: 0.0000e+00 - val_loss: 0.0987 - val_accuracy: 0.0000e+00\n",
            "Epoch 57/300\n",
            "3/3 [==============================] - 0s 32ms/step - loss: 0.1248 - accuracy: 0.0000e+00 - val_loss: 0.0969 - val_accuracy: 0.0000e+00\n",
            "Epoch 58/300\n",
            "3/3 [==============================] - 0s 32ms/step - loss: 0.1224 - accuracy: 0.0000e+00 - val_loss: 0.0952 - val_accuracy: 0.0000e+00\n",
            "Epoch 59/300\n",
            "3/3 [==============================] - 0s 30ms/step - loss: 0.1201 - accuracy: 0.0000e+00 - val_loss: 0.0936 - val_accuracy: 0.0000e+00\n",
            "Epoch 60/300\n",
            "3/3 [==============================] - 0s 31ms/step - loss: 0.1178 - accuracy: 0.0000e+00 - val_loss: 0.0921 - val_accuracy: 0.0000e+00\n",
            "Epoch 61/300\n",
            "3/3 [==============================] - 0s 30ms/step - loss: 0.1158 - accuracy: 0.0000e+00 - val_loss: 0.0906 - val_accuracy: 0.0000e+00\n",
            "Epoch 62/300\n",
            "3/3 [==============================] - 0s 31ms/step - loss: 0.1138 - accuracy: 0.0000e+00 - val_loss: 0.0892 - val_accuracy: 0.0000e+00\n",
            "Epoch 63/300\n",
            "3/3 [==============================] - 0s 30ms/step - loss: 0.1119 - accuracy: 0.0000e+00 - val_loss: 0.0879 - val_accuracy: 0.0000e+00\n",
            "Epoch 64/300\n",
            "3/3 [==============================] - 0s 31ms/step - loss: 0.1099 - accuracy: 0.0000e+00 - val_loss: 0.0866 - val_accuracy: 0.0000e+00\n",
            "Epoch 65/300\n",
            "3/3 [==============================] - 0s 41ms/step - loss: 0.1082 - accuracy: 0.0000e+00 - val_loss: 0.0855 - val_accuracy: 0.0000e+00\n",
            "Epoch 66/300\n",
            "3/3 [==============================] - 0s 30ms/step - loss: 0.1065 - accuracy: 0.0000e+00 - val_loss: 0.0844 - val_accuracy: 0.0000e+00\n",
            "Epoch 67/300\n",
            "3/3 [==============================] - 0s 32ms/step - loss: 0.1049 - accuracy: 0.0000e+00 - val_loss: 0.0833 - val_accuracy: 0.0000e+00\n",
            "Epoch 68/300\n",
            "3/3 [==============================] - 0s 30ms/step - loss: 0.1034 - accuracy: 0.0000e+00 - val_loss: 0.0823 - val_accuracy: 0.0000e+00\n",
            "Epoch 69/300\n",
            "3/3 [==============================] - 0s 30ms/step - loss: 0.1017 - accuracy: 0.0000e+00 - val_loss: 0.0814 - val_accuracy: 0.0000e+00\n",
            "Epoch 70/300\n",
            "3/3 [==============================] - 0s 33ms/step - loss: 0.1005 - accuracy: 0.0000e+00 - val_loss: 0.0805 - val_accuracy: 0.0000e+00\n",
            "Epoch 71/300\n",
            "3/3 [==============================] - 0s 30ms/step - loss: 0.0990 - accuracy: 0.0000e+00 - val_loss: 0.0796 - val_accuracy: 0.0000e+00\n",
            "Epoch 72/300\n",
            "3/3 [==============================] - 0s 31ms/step - loss: 0.0977 - accuracy: 0.0000e+00 - val_loss: 0.0788 - val_accuracy: 0.0000e+00\n",
            "Epoch 73/300\n",
            "3/3 [==============================] - 0s 32ms/step - loss: 0.0965 - accuracy: 0.0000e+00 - val_loss: 0.0781 - val_accuracy: 0.0000e+00\n",
            "Epoch 74/300\n",
            "3/3 [==============================] - 0s 41ms/step - loss: 0.0953 - accuracy: 0.0000e+00 - val_loss: 0.0774 - val_accuracy: 0.0000e+00\n",
            "Epoch 75/300\n",
            "3/3 [==============================] - 0s 30ms/step - loss: 0.0942 - accuracy: 0.0000e+00 - val_loss: 0.0767 - val_accuracy: 0.0000e+00\n",
            "Epoch 76/300\n",
            "3/3 [==============================] - 0s 30ms/step - loss: 0.0931 - accuracy: 0.0000e+00 - val_loss: 0.0761 - val_accuracy: 0.0000e+00\n",
            "Epoch 77/300\n",
            "3/3 [==============================] - 0s 33ms/step - loss: 0.0921 - accuracy: 0.0000e+00 - val_loss: 0.0756 - val_accuracy: 0.0000e+00\n",
            "Epoch 78/300\n",
            "3/3 [==============================] - 0s 30ms/step - loss: 0.0911 - accuracy: 0.0000e+00 - val_loss: 0.0750 - val_accuracy: 0.0000e+00\n",
            "Epoch 79/300\n",
            "3/3 [==============================] - 0s 34ms/step - loss: 0.0903 - accuracy: 0.0000e+00 - val_loss: 0.0745 - val_accuracy: 0.0000e+00\n",
            "Epoch 80/300\n",
            "3/3 [==============================] - 0s 30ms/step - loss: 0.0894 - accuracy: 0.0000e+00 - val_loss: 0.0741 - val_accuracy: 0.0000e+00\n",
            "Epoch 81/300\n",
            "3/3 [==============================] - 0s 35ms/step - loss: 0.0885 - accuracy: 0.0000e+00 - val_loss: 0.0736 - val_accuracy: 0.0000e+00\n",
            "Epoch 82/300\n",
            "3/3 [==============================] - 0s 35ms/step - loss: 0.0878 - accuracy: 0.0000e+00 - val_loss: 0.0732 - val_accuracy: 0.0000e+00\n",
            "Epoch 83/300\n",
            "3/3 [==============================] - 0s 30ms/step - loss: 0.0870 - accuracy: 0.0000e+00 - val_loss: 0.0728 - val_accuracy: 0.0000e+00\n",
            "Epoch 84/300\n",
            "3/3 [==============================] - 0s 31ms/step - loss: 0.0863 - accuracy: 0.0000e+00 - val_loss: 0.0725 - val_accuracy: 0.0000e+00\n",
            "Epoch 85/300\n",
            "3/3 [==============================] - 0s 33ms/step - loss: 0.0856 - accuracy: 0.0000e+00 - val_loss: 0.0721 - val_accuracy: 0.0000e+00\n",
            "Epoch 86/300\n",
            "3/3 [==============================] - 0s 30ms/step - loss: 0.0850 - accuracy: 0.0000e+00 - val_loss: 0.0718 - val_accuracy: 0.0000e+00\n",
            "Epoch 87/300\n",
            "3/3 [==============================] - 0s 33ms/step - loss: 0.0843 - accuracy: 0.0000e+00 - val_loss: 0.0715 - val_accuracy: 0.0000e+00\n",
            "Epoch 88/300\n",
            "3/3 [==============================] - 0s 32ms/step - loss: 0.0838 - accuracy: 0.0000e+00 - val_loss: 0.0712 - val_accuracy: 0.0000e+00\n",
            "Epoch 89/300\n",
            "3/3 [==============================] - 0s 34ms/step - loss: 0.0831 - accuracy: 0.0000e+00 - val_loss: 0.0709 - val_accuracy: 0.0000e+00\n",
            "Epoch 90/300\n",
            "3/3 [==============================] - 0s 37ms/step - loss: 0.0826 - accuracy: 0.0000e+00 - val_loss: 0.0707 - val_accuracy: 0.0000e+00\n",
            "Epoch 91/300\n",
            "3/3 [==============================] - 0s 33ms/step - loss: 0.0820 - accuracy: 0.0000e+00 - val_loss: 0.0704 - val_accuracy: 0.0000e+00\n",
            "Epoch 92/300\n",
            "3/3 [==============================] - 0s 30ms/step - loss: 0.0815 - accuracy: 0.0000e+00 - val_loss: 0.0702 - val_accuracy: 0.0000e+00\n",
            "Epoch 93/300\n",
            "3/3 [==============================] - 0s 30ms/step - loss: 0.0810 - accuracy: 0.0000e+00 - val_loss: 0.0700 - val_accuracy: 0.0000e+00\n",
            "Epoch 94/300\n",
            "3/3 [==============================] - 0s 30ms/step - loss: 0.0805 - accuracy: 0.0000e+00 - val_loss: 0.0698 - val_accuracy: 0.0000e+00\n",
            "Epoch 95/300\n",
            "3/3 [==============================] - 0s 32ms/step - loss: 0.0801 - accuracy: 0.0000e+00 - val_loss: 0.0696 - val_accuracy: 0.0000e+00\n",
            "Epoch 96/300\n",
            "3/3 [==============================] - 0s 31ms/step - loss: 0.0796 - accuracy: 0.0000e+00 - val_loss: 0.0694 - val_accuracy: 0.0000e+00\n",
            "Epoch 97/300\n",
            "3/3 [==============================] - 0s 33ms/step - loss: 0.0792 - accuracy: 0.0000e+00 - val_loss: 0.0692 - val_accuracy: 0.0000e+00\n",
            "Epoch 98/300\n",
            "3/3 [==============================] - 0s 35ms/step - loss: 0.0787 - accuracy: 0.0125 - val_loss: 0.0690 - val_accuracy: 0.0000e+00\n",
            "Epoch 99/300\n",
            "3/3 [==============================] - 0s 38ms/step - loss: 0.0783 - accuracy: 0.0125 - val_loss: 0.0689 - val_accuracy: 0.0000e+00\n",
            "Epoch 100/300\n",
            "3/3 [==============================] - 0s 33ms/step - loss: 0.0780 - accuracy: 0.0125 - val_loss: 0.0687 - val_accuracy: 0.0000e+00\n",
            "Epoch 101/300\n",
            "3/3 [==============================] - 0s 31ms/step - loss: 0.0776 - accuracy: 0.0125 - val_loss: 0.0686 - val_accuracy: 0.0000e+00\n",
            "Epoch 102/300\n",
            "3/3 [==============================] - 0s 32ms/step - loss: 0.0773 - accuracy: 0.0125 - val_loss: 0.0684 - val_accuracy: 0.0000e+00\n",
            "Epoch 103/300\n",
            "3/3 [==============================] - 0s 34ms/step - loss: 0.0769 - accuracy: 0.0125 - val_loss: 0.0683 - val_accuracy: 0.0000e+00\n",
            "Epoch 104/300\n",
            "3/3 [==============================] - 0s 31ms/step - loss: 0.0766 - accuracy: 0.0125 - val_loss: 0.0681 - val_accuracy: 0.0000e+00\n",
            "Epoch 105/300\n",
            "3/3 [==============================] - 0s 32ms/step - loss: 0.0763 - accuracy: 0.0125 - val_loss: 0.0680 - val_accuracy: 0.0000e+00\n",
            "Epoch 106/300\n",
            "3/3 [==============================] - 0s 32ms/step - loss: 0.0760 - accuracy: 0.0125 - val_loss: 0.0679 - val_accuracy: 0.0000e+00\n",
            "Epoch 107/300\n",
            "3/3 [==============================] - 0s 31ms/step - loss: 0.0756 - accuracy: 0.0125 - val_loss: 0.0677 - val_accuracy: 0.0000e+00\n",
            "Epoch 108/300\n",
            "3/3 [==============================] - 0s 33ms/step - loss: 0.0753 - accuracy: 0.0125 - val_loss: 0.0676 - val_accuracy: 0.0000e+00\n",
            "Epoch 109/300\n",
            "3/3 [==============================] - 0s 32ms/step - loss: 0.0750 - accuracy: 0.0125 - val_loss: 0.0674 - val_accuracy: 0.0000e+00\n",
            "Epoch 110/300\n",
            "3/3 [==============================] - 0s 31ms/step - loss: 0.0748 - accuracy: 0.0125 - val_loss: 0.0673 - val_accuracy: 0.0000e+00\n",
            "Epoch 111/300\n",
            "3/3 [==============================] - 0s 30ms/step - loss: 0.0744 - accuracy: 0.0125 - val_loss: 0.0672 - val_accuracy: 0.0000e+00\n",
            "Epoch 112/300\n",
            "3/3 [==============================] - 0s 29ms/step - loss: 0.0741 - accuracy: 0.0125 - val_loss: 0.0670 - val_accuracy: 0.0000e+00\n",
            "Epoch 113/300\n",
            "3/3 [==============================] - 0s 32ms/step - loss: 0.0739 - accuracy: 0.0125 - val_loss: 0.0669 - val_accuracy: 0.0000e+00\n",
            "Epoch 114/300\n",
            "3/3 [==============================] - 0s 32ms/step - loss: 0.0736 - accuracy: 0.0125 - val_loss: 0.0667 - val_accuracy: 0.0000e+00\n",
            "Epoch 115/300\n",
            "3/3 [==============================] - 0s 42ms/step - loss: 0.0733 - accuracy: 0.0125 - val_loss: 0.0666 - val_accuracy: 0.0000e+00\n",
            "Epoch 116/300\n",
            "3/3 [==============================] - 0s 33ms/step - loss: 0.0730 - accuracy: 0.0125 - val_loss: 0.0664 - val_accuracy: 0.0000e+00\n",
            "Epoch 117/300\n",
            "3/3 [==============================] - 0s 34ms/step - loss: 0.0728 - accuracy: 0.0125 - val_loss: 0.0663 - val_accuracy: 0.0000e+00\n",
            "Epoch 118/300\n",
            "3/3 [==============================] - 0s 34ms/step - loss: 0.0725 - accuracy: 0.0125 - val_loss: 0.0661 - val_accuracy: 0.0000e+00\n",
            "Epoch 119/300\n",
            "3/3 [==============================] - 0s 35ms/step - loss: 0.0723 - accuracy: 0.0125 - val_loss: 0.0660 - val_accuracy: 0.0000e+00\n",
            "Epoch 120/300\n",
            "3/3 [==============================] - 0s 36ms/step - loss: 0.0720 - accuracy: 0.0125 - val_loss: 0.0658 - val_accuracy: 0.0000e+00\n",
            "Epoch 121/300\n",
            "3/3 [==============================] - 0s 36ms/step - loss: 0.0717 - accuracy: 0.0125 - val_loss: 0.0656 - val_accuracy: 0.0000e+00\n",
            "Epoch 122/300\n",
            "3/3 [==============================] - 0s 38ms/step - loss: 0.0715 - accuracy: 0.0125 - val_loss: 0.0654 - val_accuracy: 0.0000e+00\n",
            "Epoch 123/300\n",
            "3/3 [==============================] - 0s 32ms/step - loss: 0.0712 - accuracy: 0.0125 - val_loss: 0.0653 - val_accuracy: 0.0000e+00\n",
            "Epoch 124/300\n",
            "3/3 [==============================] - 0s 34ms/step - loss: 0.0709 - accuracy: 0.0125 - val_loss: 0.0651 - val_accuracy: 0.0000e+00\n",
            "Epoch 125/300\n",
            "3/3 [==============================] - 0s 34ms/step - loss: 0.0707 - accuracy: 0.0125 - val_loss: 0.0649 - val_accuracy: 0.0000e+00\n",
            "Epoch 126/300\n",
            "3/3 [==============================] - 0s 31ms/step - loss: 0.0704 - accuracy: 0.0125 - val_loss: 0.0647 - val_accuracy: 0.0000e+00\n",
            "Epoch 127/300\n",
            "3/3 [==============================] - 0s 33ms/step - loss: 0.0702 - accuracy: 0.0125 - val_loss: 0.0644 - val_accuracy: 0.0000e+00\n",
            "Epoch 128/300\n",
            "3/3 [==============================] - 0s 33ms/step - loss: 0.0699 - accuracy: 0.0125 - val_loss: 0.0642 - val_accuracy: 0.0000e+00\n",
            "Epoch 129/300\n",
            "3/3 [==============================] - 0s 33ms/step - loss: 0.0696 - accuracy: 0.0125 - val_loss: 0.0640 - val_accuracy: 0.0000e+00\n",
            "Epoch 130/300\n",
            "3/3 [==============================] - 0s 33ms/step - loss: 0.0693 - accuracy: 0.0125 - val_loss: 0.0637 - val_accuracy: 0.0000e+00\n",
            "Epoch 131/300\n",
            "3/3 [==============================] - 0s 30ms/step - loss: 0.0691 - accuracy: 0.0125 - val_loss: 0.0635 - val_accuracy: 0.0000e+00\n",
            "Epoch 132/300\n",
            "3/3 [==============================] - 0s 34ms/step - loss: 0.0688 - accuracy: 0.0125 - val_loss: 0.0633 - val_accuracy: 0.0000e+00\n",
            "Epoch 133/300\n",
            "3/3 [==============================] - 0s 34ms/step - loss: 0.0685 - accuracy: 0.0125 - val_loss: 0.0630 - val_accuracy: 0.0000e+00\n",
            "Epoch 134/300\n",
            "3/3 [==============================] - 0s 33ms/step - loss: 0.0682 - accuracy: 0.0125 - val_loss: 0.0627 - val_accuracy: 0.0000e+00\n",
            "Epoch 135/300\n",
            "3/3 [==============================] - 0s 35ms/step - loss: 0.0679 - accuracy: 0.0125 - val_loss: 0.0624 - val_accuracy: 0.0000e+00\n",
            "Epoch 136/300\n",
            "3/3 [==============================] - 0s 33ms/step - loss: 0.0676 - accuracy: 0.0125 - val_loss: 0.0620 - val_accuracy: 0.0000e+00\n",
            "Epoch 137/300\n",
            "3/3 [==============================] - 0s 33ms/step - loss: 0.0673 - accuracy: 0.0125 - val_loss: 0.0617 - val_accuracy: 0.0000e+00\n",
            "Epoch 138/300\n",
            "3/3 [==============================] - 0s 40ms/step - loss: 0.0669 - accuracy: 0.0125 - val_loss: 0.0614 - val_accuracy: 0.0000e+00\n",
            "Epoch 139/300\n",
            "3/3 [==============================] - 0s 33ms/step - loss: 0.0666 - accuracy: 0.0125 - val_loss: 0.0611 - val_accuracy: 0.0000e+00\n",
            "Epoch 140/300\n",
            "3/3 [==============================] - 0s 32ms/step - loss: 0.0663 - accuracy: 0.0125 - val_loss: 0.0607 - val_accuracy: 0.0000e+00\n",
            "Epoch 141/300\n",
            "3/3 [==============================] - 0s 36ms/step - loss: 0.0659 - accuracy: 0.0125 - val_loss: 0.0604 - val_accuracy: 0.0000e+00\n",
            "Epoch 142/300\n",
            "3/3 [==============================] - 0s 30ms/step - loss: 0.0656 - accuracy: 0.0125 - val_loss: 0.0600 - val_accuracy: 0.0000e+00\n",
            "Epoch 143/300\n",
            "3/3 [==============================] - 0s 35ms/step - loss: 0.0652 - accuracy: 0.0125 - val_loss: 0.0596 - val_accuracy: 0.0000e+00\n",
            "Epoch 144/300\n",
            "3/3 [==============================] - 0s 32ms/step - loss: 0.0649 - accuracy: 0.0125 - val_loss: 0.0592 - val_accuracy: 0.0000e+00\n",
            "Epoch 145/300\n",
            "3/3 [==============================] - 0s 31ms/step - loss: 0.0645 - accuracy: 0.0125 - val_loss: 0.0588 - val_accuracy: 0.0000e+00\n",
            "Epoch 146/300\n",
            "3/3 [==============================] - 0s 31ms/step - loss: 0.0641 - accuracy: 0.0125 - val_loss: 0.0584 - val_accuracy: 0.0000e+00\n",
            "Epoch 147/300\n",
            "3/3 [==============================] - 0s 30ms/step - loss: 0.0637 - accuracy: 0.0125 - val_loss: 0.0580 - val_accuracy: 0.0000e+00\n",
            "Epoch 148/300\n",
            "3/3 [==============================] - 0s 35ms/step - loss: 0.0633 - accuracy: 0.0125 - val_loss: 0.0576 - val_accuracy: 0.0000e+00\n",
            "Epoch 149/300\n",
            "3/3 [==============================] - 0s 35ms/step - loss: 0.0630 - accuracy: 0.0125 - val_loss: 0.0571 - val_accuracy: 0.0000e+00\n",
            "Epoch 150/300\n",
            "3/3 [==============================] - 0s 33ms/step - loss: 0.0625 - accuracy: 0.0125 - val_loss: 0.0567 - val_accuracy: 0.0000e+00\n",
            "Epoch 151/300\n",
            "3/3 [==============================] - 0s 32ms/step - loss: 0.0621 - accuracy: 0.0125 - val_loss: 0.0563 - val_accuracy: 0.0000e+00\n",
            "Epoch 152/300\n",
            "3/3 [==============================] - 0s 38ms/step - loss: 0.0617 - accuracy: 0.0125 - val_loss: 0.0559 - val_accuracy: 0.0000e+00\n",
            "Epoch 153/300\n",
            "3/3 [==============================] - 0s 33ms/step - loss: 0.0612 - accuracy: 0.0125 - val_loss: 0.0554 - val_accuracy: 0.0000e+00\n",
            "Epoch 154/300\n",
            "3/3 [==============================] - 0s 34ms/step - loss: 0.0608 - accuracy: 0.0125 - val_loss: 0.0549 - val_accuracy: 0.0000e+00\n",
            "Epoch 155/300\n",
            "3/3 [==============================] - 0s 34ms/step - loss: 0.0603 - accuracy: 0.0125 - val_loss: 0.0544 - val_accuracy: 0.0000e+00\n",
            "Epoch 156/300\n",
            "3/3 [==============================] - 0s 31ms/step - loss: 0.0599 - accuracy: 0.0125 - val_loss: 0.0539 - val_accuracy: 0.0000e+00\n",
            "Epoch 157/300\n",
            "3/3 [==============================] - 0s 29ms/step - loss: 0.0594 - accuracy: 0.0125 - val_loss: 0.0533 - val_accuracy: 0.0000e+00\n",
            "Epoch 158/300\n",
            "3/3 [==============================] - 0s 34ms/step - loss: 0.0588 - accuracy: 0.0125 - val_loss: 0.0528 - val_accuracy: 0.0000e+00\n",
            "Epoch 159/300\n",
            "3/3 [==============================] - 0s 36ms/step - loss: 0.0583 - accuracy: 0.0125 - val_loss: 0.0522 - val_accuracy: 0.0000e+00\n",
            "Epoch 160/300\n",
            "3/3 [==============================] - 0s 32ms/step - loss: 0.0578 - accuracy: 0.0125 - val_loss: 0.0516 - val_accuracy: 0.0000e+00\n",
            "Epoch 161/300\n",
            "3/3 [==============================] - 0s 35ms/step - loss: 0.0572 - accuracy: 0.0125 - val_loss: 0.0510 - val_accuracy: 0.0000e+00\n",
            "Epoch 162/300\n",
            "3/3 [==============================] - 0s 35ms/step - loss: 0.0567 - accuracy: 0.0125 - val_loss: 0.0504 - val_accuracy: 0.0000e+00\n",
            "Epoch 163/300\n",
            "3/3 [==============================] - 0s 35ms/step - loss: 0.0561 - accuracy: 0.0125 - val_loss: 0.0498 - val_accuracy: 0.0000e+00\n",
            "Epoch 164/300\n",
            "3/3 [==============================] - 0s 37ms/step - loss: 0.0556 - accuracy: 0.0125 - val_loss: 0.0491 - val_accuracy: 0.0000e+00\n",
            "Epoch 165/300\n",
            "3/3 [==============================] - 0s 32ms/step - loss: 0.0550 - accuracy: 0.0125 - val_loss: 0.0485 - val_accuracy: 0.0000e+00\n",
            "Epoch 166/300\n",
            "3/3 [==============================] - 0s 32ms/step - loss: 0.0544 - accuracy: 0.0125 - val_loss: 0.0478 - val_accuracy: 0.0000e+00\n",
            "Epoch 167/300\n",
            "3/3 [==============================] - 0s 34ms/step - loss: 0.0538 - accuracy: 0.0125 - val_loss: 0.0472 - val_accuracy: 0.0000e+00\n",
            "Epoch 168/300\n",
            "3/3 [==============================] - 0s 36ms/step - loss: 0.0532 - accuracy: 0.0125 - val_loss: 0.0465 - val_accuracy: 0.0000e+00\n",
            "Epoch 169/300\n",
            "3/3 [==============================] - 0s 32ms/step - loss: 0.0525 - accuracy: 0.0125 - val_loss: 0.0458 - val_accuracy: 0.0000e+00\n",
            "Epoch 170/300\n",
            "3/3 [==============================] - 0s 34ms/step - loss: 0.0519 - accuracy: 0.0125 - val_loss: 0.0451 - val_accuracy: 0.0000e+00\n",
            "Epoch 171/300\n",
            "3/3 [==============================] - 0s 35ms/step - loss: 0.0513 - accuracy: 0.0125 - val_loss: 0.0444 - val_accuracy: 0.0000e+00\n",
            "Epoch 172/300\n",
            "3/3 [==============================] - 0s 33ms/step - loss: 0.0506 - accuracy: 0.0125 - val_loss: 0.0437 - val_accuracy: 0.0000e+00\n",
            "Epoch 173/300\n",
            "3/3 [==============================] - 0s 31ms/step - loss: 0.0499 - accuracy: 0.0125 - val_loss: 0.0429 - val_accuracy: 0.0000e+00\n",
            "Epoch 174/300\n",
            "3/3 [==============================] - 0s 33ms/step - loss: 0.0492 - accuracy: 0.0125 - val_loss: 0.0422 - val_accuracy: 0.0000e+00\n",
            "Epoch 175/300\n",
            "3/3 [==============================] - 0s 35ms/step - loss: 0.0486 - accuracy: 0.0125 - val_loss: 0.0414 - val_accuracy: 0.0000e+00\n",
            "Epoch 176/300\n",
            "3/3 [==============================] - 0s 33ms/step - loss: 0.0479 - accuracy: 0.0125 - val_loss: 0.0406 - val_accuracy: 0.0000e+00\n",
            "Epoch 177/300\n",
            "3/3 [==============================] - 0s 37ms/step - loss: 0.0472 - accuracy: 0.0125 - val_loss: 0.0397 - val_accuracy: 0.0000e+00\n",
            "Epoch 178/300\n",
            "3/3 [==============================] - 0s 37ms/step - loss: 0.0464 - accuracy: 0.0125 - val_loss: 0.0390 - val_accuracy: 0.0000e+00\n",
            "Epoch 179/300\n",
            "3/3 [==============================] - 0s 32ms/step - loss: 0.0457 - accuracy: 0.0125 - val_loss: 0.0382 - val_accuracy: 0.0000e+00\n",
            "Epoch 180/300\n",
            "3/3 [==============================] - 0s 31ms/step - loss: 0.0450 - accuracy: 0.0125 - val_loss: 0.0374 - val_accuracy: 0.0000e+00\n",
            "Epoch 181/300\n",
            "3/3 [==============================] - 0s 31ms/step - loss: 0.0443 - accuracy: 0.0125 - val_loss: 0.0366 - val_accuracy: 0.0000e+00\n",
            "Epoch 182/300\n",
            "3/3 [==============================] - 0s 34ms/step - loss: 0.0435 - accuracy: 0.0125 - val_loss: 0.0358 - val_accuracy: 0.0000e+00\n",
            "Epoch 183/300\n",
            "3/3 [==============================] - 0s 30ms/step - loss: 0.0428 - accuracy: 0.0125 - val_loss: 0.0350 - val_accuracy: 0.0000e+00\n",
            "Epoch 184/300\n",
            "3/3 [==============================] - 0s 32ms/step - loss: 0.0420 - accuracy: 0.0125 - val_loss: 0.0342 - val_accuracy: 0.0000e+00\n",
            "Epoch 185/300\n",
            "3/3 [==============================] - 0s 45ms/step - loss: 0.0413 - accuracy: 0.0125 - val_loss: 0.0334 - val_accuracy: 0.0000e+00\n",
            "Epoch 186/300\n",
            "3/3 [==============================] - 0s 31ms/step - loss: 0.0405 - accuracy: 0.0125 - val_loss: 0.0325 - val_accuracy: 0.0000e+00\n",
            "Epoch 187/300\n",
            "3/3 [==============================] - 0s 35ms/step - loss: 0.0398 - accuracy: 0.0125 - val_loss: 0.0317 - val_accuracy: 0.0000e+00\n",
            "Epoch 188/300\n",
            "3/3 [==============================] - 0s 34ms/step - loss: 0.0389 - accuracy: 0.0125 - val_loss: 0.0308 - val_accuracy: 0.0000e+00\n",
            "Epoch 189/300\n",
            "3/3 [==============================] - 0s 33ms/step - loss: 0.0381 - accuracy: 0.0125 - val_loss: 0.0300 - val_accuracy: 0.0000e+00\n",
            "Epoch 190/300\n",
            "3/3 [==============================] - 0s 31ms/step - loss: 0.0374 - accuracy: 0.0125 - val_loss: 0.0291 - val_accuracy: 0.0000e+00\n",
            "Epoch 191/300\n",
            "3/3 [==============================] - 0s 32ms/step - loss: 0.0366 - accuracy: 0.0125 - val_loss: 0.0283 - val_accuracy: 0.0000e+00\n",
            "Epoch 192/300\n",
            "3/3 [==============================] - 0s 32ms/step - loss: 0.0358 - accuracy: 0.0125 - val_loss: 0.0274 - val_accuracy: 0.0000e+00\n",
            "Epoch 193/300\n",
            "3/3 [==============================] - 0s 33ms/step - loss: 0.0350 - accuracy: 0.0125 - val_loss: 0.0266 - val_accuracy: 0.0000e+00\n",
            "Epoch 194/300\n",
            "3/3 [==============================] - 0s 33ms/step - loss: 0.0342 - accuracy: 0.0125 - val_loss: 0.0258 - val_accuracy: 0.0000e+00\n",
            "Epoch 195/300\n",
            "3/3 [==============================] - 0s 31ms/step - loss: 0.0334 - accuracy: 0.0125 - val_loss: 0.0250 - val_accuracy: 0.0000e+00\n",
            "Epoch 196/300\n",
            "3/3 [==============================] - 0s 31ms/step - loss: 0.0327 - accuracy: 0.0125 - val_loss: 0.0243 - val_accuracy: 0.0000e+00\n",
            "Epoch 197/300\n",
            "3/3 [==============================] - 0s 34ms/step - loss: 0.0319 - accuracy: 0.0125 - val_loss: 0.0235 - val_accuracy: 0.0000e+00\n",
            "Epoch 198/300\n",
            "3/3 [==============================] - 0s 39ms/step - loss: 0.0312 - accuracy: 0.0125 - val_loss: 0.0228 - val_accuracy: 0.0000e+00\n",
            "Epoch 199/300\n",
            "3/3 [==============================] - 0s 32ms/step - loss: 0.0305 - accuracy: 0.0125 - val_loss: 0.0221 - val_accuracy: 0.0000e+00\n",
            "Epoch 200/300\n",
            "3/3 [==============================] - 0s 36ms/step - loss: 0.0297 - accuracy: 0.0125 - val_loss: 0.0214 - val_accuracy: 0.0000e+00\n",
            "Epoch 201/300\n",
            "3/3 [==============================] - 0s 33ms/step - loss: 0.0290 - accuracy: 0.0125 - val_loss: 0.0207 - val_accuracy: 0.0000e+00\n",
            "Epoch 202/300\n",
            "3/3 [==============================] - 0s 33ms/step - loss: 0.0283 - accuracy: 0.0125 - val_loss: 0.0201 - val_accuracy: 0.0000e+00\n",
            "Epoch 203/300\n",
            "3/3 [==============================] - 0s 32ms/step - loss: 0.0277 - accuracy: 0.0125 - val_loss: 0.0194 - val_accuracy: 0.0000e+00\n",
            "Epoch 204/300\n",
            "3/3 [==============================] - 0s 34ms/step - loss: 0.0270 - accuracy: 0.0125 - val_loss: 0.0188 - val_accuracy: 0.0000e+00\n",
            "Epoch 205/300\n",
            "3/3 [==============================] - 0s 45ms/step - loss: 0.0263 - accuracy: 0.0125 - val_loss: 0.0182 - val_accuracy: 0.0000e+00\n",
            "Epoch 206/300\n",
            "3/3 [==============================] - 0s 33ms/step - loss: 0.0257 - accuracy: 0.0125 - val_loss: 0.0176 - val_accuracy: 0.0000e+00\n",
            "Epoch 207/300\n",
            "3/3 [==============================] - 0s 35ms/step - loss: 0.0251 - accuracy: 0.0125 - val_loss: 0.0171 - val_accuracy: 0.0000e+00\n",
            "Epoch 208/300\n",
            "3/3 [==============================] - 0s 32ms/step - loss: 0.0245 - accuracy: 0.0125 - val_loss: 0.0165 - val_accuracy: 0.0000e+00\n",
            "Epoch 209/300\n",
            "3/3 [==============================] - 0s 35ms/step - loss: 0.0240 - accuracy: 0.0125 - val_loss: 0.0160 - val_accuracy: 0.0000e+00\n",
            "Epoch 210/300\n",
            "3/3 [==============================] - 0s 32ms/step - loss: 0.0234 - accuracy: 0.0125 - val_loss: 0.0155 - val_accuracy: 0.0000e+00\n",
            "Epoch 211/300\n",
            "3/3 [==============================] - 0s 34ms/step - loss: 0.0229 - accuracy: 0.0125 - val_loss: 0.0151 - val_accuracy: 0.0000e+00\n",
            "Epoch 212/300\n",
            "3/3 [==============================] - 0s 32ms/step - loss: 0.0224 - accuracy: 0.0125 - val_loss: 0.0146 - val_accuracy: 0.0000e+00\n",
            "Epoch 213/300\n",
            "3/3 [==============================] - 0s 33ms/step - loss: 0.0219 - accuracy: 0.0125 - val_loss: 0.0142 - val_accuracy: 0.0000e+00\n",
            "Epoch 214/300\n",
            "3/3 [==============================] - 0s 44ms/step - loss: 0.0215 - accuracy: 0.0125 - val_loss: 0.0138 - val_accuracy: 0.0000e+00\n",
            "Epoch 215/300\n",
            "3/3 [==============================] - 0s 34ms/step - loss: 0.0210 - accuracy: 0.0125 - val_loss: 0.0134 - val_accuracy: 0.0000e+00\n",
            "Epoch 216/300\n",
            "3/3 [==============================] - 0s 32ms/step - loss: 0.0206 - accuracy: 0.0125 - val_loss: 0.0130 - val_accuracy: 0.0000e+00\n",
            "Epoch 217/300\n",
            "3/3 [==============================] - 0s 32ms/step - loss: 0.0201 - accuracy: 0.0125 - val_loss: 0.0127 - val_accuracy: 0.0000e+00\n",
            "Epoch 218/300\n",
            "3/3 [==============================] - 0s 34ms/step - loss: 0.0197 - accuracy: 0.0125 - val_loss: 0.0123 - val_accuracy: 0.0000e+00\n",
            "Epoch 219/300\n",
            "3/3 [==============================] - 0s 32ms/step - loss: 0.0194 - accuracy: 0.0125 - val_loss: 0.0120 - val_accuracy: 0.0000e+00\n",
            "Epoch 220/300\n",
            "3/3 [==============================] - 0s 32ms/step - loss: 0.0190 - accuracy: 0.0125 - val_loss: 0.0117 - val_accuracy: 0.0000e+00\n",
            "Epoch 221/300\n",
            "3/3 [==============================] - 0s 35ms/step - loss: 0.0186 - accuracy: 0.0125 - val_loss: 0.0114 - val_accuracy: 0.0000e+00\n",
            "Epoch 222/300\n",
            "3/3 [==============================] - 0s 40ms/step - loss: 0.0183 - accuracy: 0.0125 - val_loss: 0.0111 - val_accuracy: 0.0000e+00\n",
            "Epoch 223/300\n",
            "3/3 [==============================] - 0s 31ms/step - loss: 0.0180 - accuracy: 0.0125 - val_loss: 0.0108 - val_accuracy: 0.0000e+00\n",
            "Epoch 224/300\n",
            "3/3 [==============================] - 0s 35ms/step - loss: 0.0176 - accuracy: 0.0125 - val_loss: 0.0106 - val_accuracy: 0.0000e+00\n",
            "Epoch 225/300\n",
            "3/3 [==============================] - 0s 34ms/step - loss: 0.0173 - accuracy: 0.0125 - val_loss: 0.0103 - val_accuracy: 0.0000e+00\n",
            "Epoch 226/300\n",
            "3/3 [==============================] - 0s 30ms/step - loss: 0.0170 - accuracy: 0.0125 - val_loss: 0.0101 - val_accuracy: 0.0000e+00\n",
            "Epoch 227/300\n",
            "3/3 [==============================] - 0s 31ms/step - loss: 0.0168 - accuracy: 0.0125 - val_loss: 0.0099 - val_accuracy: 0.0000e+00\n",
            "Epoch 228/300\n",
            "3/3 [==============================] - 0s 32ms/step - loss: 0.0165 - accuracy: 0.0125 - val_loss: 0.0097 - val_accuracy: 0.0000e+00\n",
            "Epoch 229/300\n",
            "3/3 [==============================] - 0s 32ms/step - loss: 0.0162 - accuracy: 0.0125 - val_loss: 0.0095 - val_accuracy: 0.0000e+00\n",
            "Epoch 230/300\n",
            "3/3 [==============================] - 0s 35ms/step - loss: 0.0160 - accuracy: 0.0125 - val_loss: 0.0093 - val_accuracy: 0.0000e+00\n",
            "Epoch 231/300\n",
            "3/3 [==============================] - 0s 33ms/step - loss: 0.0158 - accuracy: 0.0125 - val_loss: 0.0091 - val_accuracy: 0.0000e+00\n",
            "Epoch 232/300\n",
            "3/3 [==============================] - 0s 32ms/step - loss: 0.0155 - accuracy: 0.0125 - val_loss: 0.0089 - val_accuracy: 0.0000e+00\n",
            "Epoch 233/300\n",
            "3/3 [==============================] - 0s 34ms/step - loss: 0.0153 - accuracy: 0.0125 - val_loss: 0.0088 - val_accuracy: 0.0000e+00\n",
            "Epoch 234/300\n",
            "3/3 [==============================] - 0s 34ms/step - loss: 0.0151 - accuracy: 0.0125 - val_loss: 0.0086 - val_accuracy: 0.0000e+00\n",
            "Epoch 235/300\n",
            "3/3 [==============================] - 0s 34ms/step - loss: 0.0149 - accuracy: 0.0125 - val_loss: 0.0084 - val_accuracy: 0.0000e+00\n",
            "Epoch 236/300\n",
            "3/3 [==============================] - 0s 35ms/step - loss: 0.0147 - accuracy: 0.0125 - val_loss: 0.0083 - val_accuracy: 0.0000e+00\n",
            "Epoch 237/300\n",
            "3/3 [==============================] - 0s 31ms/step - loss: 0.0146 - accuracy: 0.0125 - val_loss: 0.0082 - val_accuracy: 0.0000e+00\n",
            "Epoch 238/300\n",
            "3/3 [==============================] - 0s 34ms/step - loss: 0.0144 - accuracy: 0.0125 - val_loss: 0.0080 - val_accuracy: 0.0000e+00\n",
            "Epoch 239/300\n",
            "3/3 [==============================] - 0s 32ms/step - loss: 0.0142 - accuracy: 0.0125 - val_loss: 0.0079 - val_accuracy: 0.0000e+00\n",
            "Epoch 240/300\n",
            "3/3 [==============================] - 0s 31ms/step - loss: 0.0140 - accuracy: 0.0125 - val_loss: 0.0078 - val_accuracy: 0.0000e+00\n",
            "Epoch 241/300\n",
            "3/3 [==============================] - 0s 34ms/step - loss: 0.0139 - accuracy: 0.0125 - val_loss: 0.0077 - val_accuracy: 0.0000e+00\n",
            "Epoch 242/300\n",
            "3/3 [==============================] - 0s 32ms/step - loss: 0.0137 - accuracy: 0.0125 - val_loss: 0.0075 - val_accuracy: 0.0000e+00\n",
            "Epoch 243/300\n",
            "3/3 [==============================] - 0s 32ms/step - loss: 0.0136 - accuracy: 0.0125 - val_loss: 0.0074 - val_accuracy: 0.0000e+00\n",
            "Epoch 244/300\n",
            "3/3 [==============================] - 0s 31ms/step - loss: 0.0134 - accuracy: 0.0125 - val_loss: 0.0073 - val_accuracy: 0.0000e+00\n",
            "Epoch 245/300\n",
            "3/3 [==============================] - 0s 36ms/step - loss: 0.0133 - accuracy: 0.0125 - val_loss: 0.0072 - val_accuracy: 0.0000e+00\n",
            "Epoch 246/300\n",
            "3/3 [==============================] - 0s 36ms/step - loss: 0.0131 - accuracy: 0.0125 - val_loss: 0.0071 - val_accuracy: 0.0000e+00\n",
            "Epoch 247/300\n",
            "3/3 [==============================] - 0s 33ms/step - loss: 0.0130 - accuracy: 0.0125 - val_loss: 0.0070 - val_accuracy: 0.0000e+00\n",
            "Epoch 248/300\n",
            "3/3 [==============================] - 0s 33ms/step - loss: 0.0129 - accuracy: 0.0125 - val_loss: 0.0069 - val_accuracy: 0.0000e+00\n",
            "Epoch 249/300\n",
            "3/3 [==============================] - 0s 33ms/step - loss: 0.0127 - accuracy: 0.0125 - val_loss: 0.0068 - val_accuracy: 0.0000e+00\n",
            "Epoch 250/300\n",
            "3/3 [==============================] - 0s 32ms/step - loss: 0.0126 - accuracy: 0.0125 - val_loss: 0.0067 - val_accuracy: 0.0000e+00\n",
            "Epoch 251/300\n",
            "3/3 [==============================] - 0s 32ms/step - loss: 0.0125 - accuracy: 0.0125 - val_loss: 0.0066 - val_accuracy: 0.0000e+00\n",
            "Epoch 252/300\n",
            "3/3 [==============================] - 0s 34ms/step - loss: 0.0124 - accuracy: 0.0125 - val_loss: 0.0066 - val_accuracy: 0.0000e+00\n",
            "Epoch 253/300\n",
            "3/3 [==============================] - 0s 35ms/step - loss: 0.0123 - accuracy: 0.0125 - val_loss: 0.0065 - val_accuracy: 0.0000e+00\n",
            "Epoch 254/300\n",
            "3/3 [==============================] - 0s 37ms/step - loss: 0.0122 - accuracy: 0.0125 - val_loss: 0.0064 - val_accuracy: 0.0000e+00\n",
            "Epoch 255/300\n",
            "3/3 [==============================] - 0s 34ms/step - loss: 0.0120 - accuracy: 0.0125 - val_loss: 0.0063 - val_accuracy: 0.0000e+00\n",
            "Epoch 256/300\n",
            "3/3 [==============================] - 0s 33ms/step - loss: 0.0119 - accuracy: 0.0125 - val_loss: 0.0062 - val_accuracy: 0.0000e+00\n",
            "Epoch 257/300\n",
            "3/3 [==============================] - 0s 33ms/step - loss: 0.0118 - accuracy: 0.0125 - val_loss: 0.0061 - val_accuracy: 0.0000e+00\n",
            "Epoch 258/300\n",
            "3/3 [==============================] - 0s 34ms/step - loss: 0.0117 - accuracy: 0.0125 - val_loss: 0.0061 - val_accuracy: 0.0000e+00\n",
            "Epoch 259/300\n",
            "3/3 [==============================] - 0s 43ms/step - loss: 0.0117 - accuracy: 0.0125 - val_loss: 0.0060 - val_accuracy: 0.0000e+00\n",
            "Epoch 260/300\n",
            "3/3 [==============================] - 0s 31ms/step - loss: 0.0115 - accuracy: 0.0125 - val_loss: 0.0059 - val_accuracy: 0.0000e+00\n",
            "Epoch 261/300\n",
            "3/3 [==============================] - 0s 42ms/step - loss: 0.0115 - accuracy: 0.0125 - val_loss: 0.0059 - val_accuracy: 0.0000e+00\n",
            "Epoch 262/300\n",
            "3/3 [==============================] - 0s 36ms/step - loss: 0.0114 - accuracy: 0.0125 - val_loss: 0.0058 - val_accuracy: 0.0000e+00\n",
            "Epoch 263/300\n",
            "3/3 [==============================] - 0s 32ms/step - loss: 0.0113 - accuracy: 0.0125 - val_loss: 0.0057 - val_accuracy: 0.0000e+00\n",
            "Epoch 264/300\n",
            "3/3 [==============================] - 0s 39ms/step - loss: 0.0112 - accuracy: 0.0125 - val_loss: 0.0057 - val_accuracy: 0.0000e+00\n",
            "Epoch 265/300\n",
            "3/3 [==============================] - 0s 34ms/step - loss: 0.0111 - accuracy: 0.0125 - val_loss: 0.0056 - val_accuracy: 0.0000e+00\n",
            "Epoch 266/300\n",
            "3/3 [==============================] - 0s 34ms/step - loss: 0.0110 - accuracy: 0.0125 - val_loss: 0.0055 - val_accuracy: 0.0000e+00\n",
            "Epoch 267/300\n",
            "3/3 [==============================] - 0s 32ms/step - loss: 0.0109 - accuracy: 0.0125 - val_loss: 0.0055 - val_accuracy: 0.0000e+00\n",
            "Epoch 268/300\n",
            "3/3 [==============================] - 0s 41ms/step - loss: 0.0108 - accuracy: 0.0125 - val_loss: 0.0054 - val_accuracy: 0.0000e+00\n",
            "Epoch 269/300\n",
            "3/3 [==============================] - 0s 38ms/step - loss: 0.0107 - accuracy: 0.0125 - val_loss: 0.0053 - val_accuracy: 0.0000e+00\n",
            "Epoch 270/300\n",
            "3/3 [==============================] - 0s 37ms/step - loss: 0.0107 - accuracy: 0.0125 - val_loss: 0.0053 - val_accuracy: 0.0000e+00\n",
            "Epoch 271/300\n",
            "3/3 [==============================] - 0s 32ms/step - loss: 0.0106 - accuracy: 0.0125 - val_loss: 0.0052 - val_accuracy: 0.0000e+00\n",
            "Epoch 272/300\n",
            "3/3 [==============================] - 0s 36ms/step - loss: 0.0105 - accuracy: 0.0125 - val_loss: 0.0052 - val_accuracy: 0.0000e+00\n",
            "Epoch 273/300\n",
            "3/3 [==============================] - 0s 33ms/step - loss: 0.0104 - accuracy: 0.0125 - val_loss: 0.0051 - val_accuracy: 0.0000e+00\n",
            "Epoch 274/300\n",
            "3/3 [==============================] - 0s 35ms/step - loss: 0.0103 - accuracy: 0.0125 - val_loss: 0.0050 - val_accuracy: 0.0000e+00\n",
            "Epoch 275/300\n",
            "3/3 [==============================] - 0s 31ms/step - loss: 0.0103 - accuracy: 0.0125 - val_loss: 0.0050 - val_accuracy: 0.0000e+00\n",
            "Epoch 276/300\n",
            "3/3 [==============================] - 0s 35ms/step - loss: 0.0102 - accuracy: 0.0125 - val_loss: 0.0049 - val_accuracy: 0.0000e+00\n",
            "Epoch 277/300\n",
            "3/3 [==============================] - 0s 36ms/step - loss: 0.0101 - accuracy: 0.0125 - val_loss: 0.0049 - val_accuracy: 0.0000e+00\n",
            "Epoch 278/300\n",
            "3/3 [==============================] - 0s 36ms/step - loss: 0.0100 - accuracy: 0.0125 - val_loss: 0.0048 - val_accuracy: 0.0000e+00\n",
            "Epoch 279/300\n",
            "3/3 [==============================] - 0s 35ms/step - loss: 0.0100 - accuracy: 0.0125 - val_loss: 0.0048 - val_accuracy: 0.0000e+00\n",
            "Epoch 280/300\n",
            "3/3 [==============================] - 0s 40ms/step - loss: 0.0099 - accuracy: 0.0125 - val_loss: 0.0047 - val_accuracy: 0.0000e+00\n",
            "Epoch 281/300\n",
            "3/3 [==============================] - 0s 34ms/step - loss: 0.0098 - accuracy: 0.0125 - val_loss: 0.0047 - val_accuracy: 0.0000e+00\n",
            "Epoch 282/300\n",
            "3/3 [==============================] - 0s 36ms/step - loss: 0.0097 - accuracy: 0.0125 - val_loss: 0.0046 - val_accuracy: 0.0000e+00\n",
            "Epoch 283/300\n",
            "3/3 [==============================] - 0s 45ms/step - loss: 0.0097 - accuracy: 0.0125 - val_loss: 0.0046 - val_accuracy: 0.0000e+00\n",
            "Epoch 284/300\n",
            "3/3 [==============================] - 0s 40ms/step - loss: 0.0096 - accuracy: 0.0125 - val_loss: 0.0045 - val_accuracy: 0.0000e+00\n",
            "Epoch 285/300\n",
            "3/3 [==============================] - 0s 36ms/step - loss: 0.0095 - accuracy: 0.0125 - val_loss: 0.0045 - val_accuracy: 0.0000e+00\n",
            "Epoch 286/300\n",
            "3/3 [==============================] - 0s 34ms/step - loss: 0.0095 - accuracy: 0.0125 - val_loss: 0.0044 - val_accuracy: 0.0000e+00\n",
            "Epoch 287/300\n",
            "3/3 [==============================] - 0s 35ms/step - loss: 0.0094 - accuracy: 0.0125 - val_loss: 0.0044 - val_accuracy: 0.0000e+00\n",
            "Epoch 288/300\n",
            "3/3 [==============================] - 0s 34ms/step - loss: 0.0093 - accuracy: 0.0125 - val_loss: 0.0043 - val_accuracy: 0.0000e+00\n",
            "Epoch 289/300\n",
            "3/3 [==============================] - 0s 36ms/step - loss: 0.0093 - accuracy: 0.0125 - val_loss: 0.0043 - val_accuracy: 0.0000e+00\n",
            "Epoch 290/300\n",
            "3/3 [==============================] - 0s 34ms/step - loss: 0.0092 - accuracy: 0.0125 - val_loss: 0.0042 - val_accuracy: 0.0000e+00\n",
            "Epoch 291/300\n",
            "3/3 [==============================] - 0s 34ms/step - loss: 0.0091 - accuracy: 0.0125 - val_loss: 0.0042 - val_accuracy: 0.0000e+00\n",
            "Epoch 292/300\n",
            "3/3 [==============================] - 0s 35ms/step - loss: 0.0091 - accuracy: 0.0125 - val_loss: 0.0042 - val_accuracy: 0.0000e+00\n",
            "Epoch 293/300\n",
            "3/3 [==============================] - 0s 34ms/step - loss: 0.0090 - accuracy: 0.0125 - val_loss: 0.0041 - val_accuracy: 0.0000e+00\n",
            "Epoch 294/300\n",
            "3/3 [==============================] - 0s 37ms/step - loss: 0.0090 - accuracy: 0.0125 - val_loss: 0.0041 - val_accuracy: 0.0000e+00\n",
            "Epoch 295/300\n",
            "3/3 [==============================] - 0s 33ms/step - loss: 0.0089 - accuracy: 0.0125 - val_loss: 0.0040 - val_accuracy: 0.0000e+00\n",
            "Epoch 296/300\n",
            "3/3 [==============================] - 0s 33ms/step - loss: 0.0088 - accuracy: 0.0125 - val_loss: 0.0040 - val_accuracy: 0.0000e+00\n",
            "Epoch 297/300\n",
            "3/3 [==============================] - 0s 34ms/step - loss: 0.0088 - accuracy: 0.0125 - val_loss: 0.0040 - val_accuracy: 0.0000e+00\n",
            "Epoch 298/300\n",
            "3/3 [==============================] - 0s 32ms/step - loss: 0.0087 - accuracy: 0.0125 - val_loss: 0.0039 - val_accuracy: 0.0000e+00\n",
            "Epoch 299/300\n",
            "3/3 [==============================] - 0s 34ms/step - loss: 0.0087 - accuracy: 0.0125 - val_loss: 0.0039 - val_accuracy: 0.0000e+00\n",
            "Epoch 300/300\n",
            "3/3 [==============================] - 0s 35ms/step - loss: 0.0086 - accuracy: 0.0125 - val_loss: 0.0038 - val_accuracy: 0.0000e+00\n"
          ]
        }
      ]
    },
    {
      "cell_type": "code",
      "source": [
        "res=model.predict(x_test)"
      ],
      "metadata": {
        "colab": {
          "base_uri": "https://localhost:8080/"
        },
        "id": "oJglBbPq_x4n",
        "outputId": "d13d8247-1d0e-4a87-b17b-9caf0baf6fb5"
      },
      "execution_count": null,
      "outputs": [
        {
          "output_type": "stream",
          "name": "stdout",
          "text": [
            "1/1 [==============================] - 1s 1s/step\n"
          ]
        }
      ]
    },
    {
      "cell_type": "code",
      "source": [
        "print(res)\n",
        "print(y_test)\n",
        "plt.scatter(range(20),res,c='r')\n",
        "plt.scatter(range(20),y_test,c='g')"
      ],
      "metadata": {
        "colab": {
          "base_uri": "https://localhost:8080/",
          "height": 647
        },
        "id": "MONKxJtX_2I4",
        "outputId": "d2abe9fd-d33f-45c1-9413-061e7e39df11"
      },
      "execution_count": null,
      "outputs": [
        {
          "output_type": "stream",
          "name": "stdout",
          "text": [
            "[[0.7632809 ]\n",
            " [0.6373384 ]\n",
            " [0.7331236 ]\n",
            " [0.5521663 ]\n",
            " [0.53950477]\n",
            " [0.47107682]\n",
            " [0.23885928]\n",
            " [0.7580843 ]\n",
            " [0.13129552]\n",
            " [0.07673328]\n",
            " [0.19697335]\n",
            " [0.34065336]\n",
            " [0.74213827]\n",
            " [0.38352785]\n",
            " [0.77276206]\n",
            " [0.09549913]\n",
            " [0.7497322 ]\n",
            " [0.75199366]\n",
            " [0.14561714]\n",
            " [0.35475406]]\n",
            "[0.88, 0.58, 0.75, 0.5, 0.49, 0.44, 0.27, 0.85, 0.15, 0.05, 0.23, 0.35, 0.78, 0.38, 0.95, 0.09, 0.81, 0.82, 0.17, 0.36]\n"
          ]
        },
        {
          "output_type": "execute_result",
          "data": {
            "text/plain": [
              "<matplotlib.collections.PathCollection at 0x7f45935b30d0>"
            ]
          },
          "metadata": {},
          "execution_count": 159
        },
        {
          "output_type": "display_data",
          "data": {
            "text/plain": [
              "<Figure size 432x288 with 1 Axes>"
            ],
            "image/png": "[encoded data removed]"
          },
          "metadata": {
            "needs_background": "light"
          }
        }
      ]
    },
    {
      "cell_type": "code",
      "source": [
        "model.evaluate(x_test,y_test)\n"
      ],
      "metadata": {
        "colab": {
          "base_uri": "https://localhost:8080/"
        },
        "id": "an0XCqUTIUR6",
        "outputId": "66146dec-6659-4481-d185-40662319bf7e"
      },
      "execution_count": null,
      "outputs": [
        {
          "output_type": "stream",
          "name": "stdout",
          "text": [
            "1/1 [==============================] - 0s 38ms/step - loss: 0.0038 - accuracy: 0.0000e+00\n"
          ]
        },
        {
          "output_type": "execute_result",
          "data": {
            "text/plain": [
              "[0.0038381568156182766, 0.0]"
            ]
          },
          "metadata": {},
          "execution_count": 160
        }
      ]
    }
  ]
}